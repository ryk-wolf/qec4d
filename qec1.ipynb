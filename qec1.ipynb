{
 "cells": [
  {
   "attachments": {},
   "cell_type": "markdown",
   "id": "e8518240",
   "metadata": {},
   "source": [
    "# Quantum Error Correction for Dummies (QEC4D)\n",
    "# Chapter I - The 3-qbit bit flip repetition code\n",
    "\n",
    "To kick-start our series on quantum error correction (QEC) let's look at the simplest error-correction code there is: the repetition code protecting against bit-flip (X) errors.\n",
    "## 1) Overview\n",
    "The quantum repetition code (QRC) ensures information integrity by encoding one ***logical*** qbit of information into 3 ***physical*** qbits.\n",
    "To do so, it relies on two assumptions:\n",
    "- Only a single error can occur in each code word.\n",
    "- The error type can only be an ***X-error aka a bit-flip*** (no Y-errors aka phase flips).\n",
    "\n",
    "So what are our goals with QRC?\n",
    "1. Identify whether an error has occurred (or not, we could get lucky).\n",
    "2. If an error occurred, identify which physical qbit was affected (this is done by studying the ***error syndrome***, more on this later).\n",
    "3. If an error occurred, correct it."
   ]
  },
  {
   "cell_type": "code",
   "execution_count": 1,
   "id": "cfa3f2c7",
   "metadata": {},
   "outputs": [],
   "source": [
    "# First, a few imports\n",
    "from copy import deepcopy\n",
    "from qiskit import *\n",
    "from qiskit import Aer\n",
    "from qiskit.visualization import plot_histogram\n",
    "from typing import Tuple"
   ]
  },
  {
   "attachments": {},
   "cell_type": "markdown",
   "id": "a0b0abee",
   "metadata": {},
   "source": [
    "## 2) Building our circuit\n",
    "\n",
    "### 2-A) Encoding\n",
    "The first step is to build an encoding. This process turns our logical qbit into 3 physical qbits using repetition. The very first qbit at index $0$ is the one which contains the logical information we're interested in. We apply CNOT conditioned on it to both qbits at index 1 and 2 such that after this encoding all three qbits are necessarily in the same state."
   ]
  },
  {
   "cell_type": "code",
   "execution_count": 2,
   "id": "bd20a008",
   "metadata": {},
   "outputs": [],
   "source": [
    "def encode_1_into_3(circuit:QuantumCircuit) -> QuantumCircuit:\n",
    "    \"\"\"Encode 1 logical qbit (at index 0) into 3 physical qubits.\"\"\"\n",
    "    circuit.cnot(0,1)\n",
    "    circuit.cnot(0,2)\n",
    "    return circuit"
   ]
  },
  {
   "attachments": {},
   "cell_type": "markdown",
   "id": "c90f9a58",
   "metadata": {},
   "source": [
    "And we visualise the resulting circuit."
   ]
  },
  {
   "cell_type": "code",
   "execution_count": 3,
   "id": "55888385",
   "metadata": {},
   "outputs": [
    {
     "data": {
      "text/html": [
       "<pre style=\"word-wrap: normal;white-space: pre;background: #fff0;line-height: 1.1;font-family: &quot;Courier New&quot;,Courier,monospace\">                \n",
       "q0_0: ──■────■──\n",
       "      ┌─┴─┐  │  \n",
       "q0_1: ┤ X ├──┼──\n",
       "      └───┘┌─┴─┐\n",
       "q0_2: ─────┤ X ├\n",
       "           └───┘</pre>"
      ],
      "text/plain": [
       "                \n",
       "q0_0: ──■────■──\n",
       "      ┌─┴─┐  │  \n",
       "q0_1: ┤ X ├──┼──\n",
       "      └───┘┌─┴─┐\n",
       "q0_2: ─────┤ X ├\n",
       "           └───┘"
      ]
     },
     "execution_count": 3,
     "metadata": {},
     "output_type": "execute_result"
    }
   ],
   "source": [
    "c = QuantumCircuit(QuantumRegister(3))\n",
    "encoding_circuit = encode_1_into_3(c)\n",
    "encoding_circuit.draw('text')"
   ]
  },
  {
   "attachments": {},
   "cell_type": "markdown",
   "id": "3e718d75",
   "metadata": {},
   "source": [
    "Next we use this encoding to build a QRC circuit. We need to add a few things such as parity checks to allow for ulterior processing."
   ]
  },
  {
   "cell_type": "code",
   "execution_count": 4,
   "id": "738579a1",
   "metadata": {},
   "outputs": [],
   "source": [
    "def repetition_code_3(logical_qb_val:int=0, with_error:bool=False, qb_idx:int=-1) -> QuantumCircuit:\n",
    "    \"\"\"Build a repetition code circuit.\n",
    "     The circuit is made of 3 physical qubits encoding the single logical qubit, two ancilla \n",
    "     quantum qbits for parity check measurements and two classical bits to receive the results form \n",
    "     the parity checks.\"\"\"\n",
    "    \n",
    "    # Encode the logical qubit information into three physical qubits\n",
    "    qr1 = QuantumRegister(3)\n",
    "    circuit = QuantumCircuit(qr1)\n",
    "\n",
    "    if logical_qb_val == 1:\n",
    "        circuit.x(0)\n",
    "        circuit.barrier(qr1) #for visualisation only\n",
    "\n",
    "    circuit = encode_1_into_3(circuit)\n",
    "    circuit.barrier(qr1) #for visualisation only\n",
    "\n",
    "    # If there is an error, introduce it here on deisred qbit\n",
    "    if with_error:\n",
    "        circuit.x(qb_idx)\n",
    "        circuit.barrier(qr1) #for visualisation only\n",
    "\n",
    "    # Add another quantum (ancilla) register for parity checks\n",
    "    qr2 = QuantumRegister(2)\n",
    "    circuit.add_register(qr2)\n",
    "    circuit = parity_checks_qba_qbb(circuit,0,1,3) # Perform parity check on the qubit pair 0-1\n",
    "    circuit = parity_checks_qba_qbb(circuit,0,2,4) # Perform parity check on the qubit pair 1-2\n",
    "    circuit.barrier(qr1,qr2) #for visualisation only\n",
    "\n",
    "    return circuit\n",
    "\n",
    "def parity_checks_qba_qbb(circuit:QuantumCircuit, qba_idx:int, qbb_idx:int, qb_out:int) -> QuantumCircuit:\n",
    "    \"\"\"Perform parity check on the qubit pair a-b.\"\"\"\n",
    "    circuit.cnot(qba_idx,qb_out)\n",
    "    circuit.cnot(qbb_idx,qb_out)\n",
    "    return circuit"
   ]
  },
  {
   "attachments": {},
   "cell_type": "markdown",
   "id": "89d6d4f2",
   "metadata": {},
   "source": [
    "We can now print the circuit we have built to encode this single $0$ logical qbit."
   ]
  },
  {
   "cell_type": "code",
   "execution_count": 5,
   "id": "31a35bc7",
   "metadata": {},
   "outputs": [
    {
     "data": {
      "text/html": [
       "<pre style=\"word-wrap: normal;white-space: pre;background: #fff0;line-height: 1.1;font-family: &quot;Courier New&quot;,Courier,monospace\">                 ░                      ░ \n",
       "q1_0: ──■────■───░───■─────────■────────░─\n",
       "      ┌─┴─┐  │   ░   │         │        ░ \n",
       "q1_1: ┤ X ├──┼───░───┼────■────┼────────░─\n",
       "      └───┘┌─┴─┐ ░   │    │    │        ░ \n",
       "q1_2: ─────┤ X ├─░───┼────┼────┼────■───░─\n",
       "           └───┘ ░ ┌─┴─┐┌─┴─┐  │    │   ░ \n",
       "q2_0: ─────────────┤ X ├┤ X ├──┼────┼───░─\n",
       "                   └───┘└───┘┌─┴─┐┌─┴─┐ ░ \n",
       "q2_1: ───────────────────────┤ X ├┤ X ├─░─\n",
       "                             └───┘└───┘ ░ </pre>"
      ],
      "text/plain": [
       "                 ░                      ░ \n",
       "q1_0: ──■────■───░───■─────────■────────░─\n",
       "      ┌─┴─┐  │   ░   │         │        ░ \n",
       "q1_1: ┤ X ├──┼───░───┼────■────┼────────░─\n",
       "      └───┘┌─┴─┐ ░   │    │    │        ░ \n",
       "q1_2: ─────┤ X ├─░───┼────┼────┼────■───░─\n",
       "           └───┘ ░ ┌─┴─┐┌─┴─┐  │    │   ░ \n",
       "q2_0: ─────────────┤ X ├┤ X ├──┼────┼───░─\n",
       "                   └───┘└───┘┌─┴─┐┌─┴─┐ ░ \n",
       "q2_1: ───────────────────────┤ X ├┤ X ├─░─\n",
       "                             └───┘└───┘ ░ "
      ]
     },
     "execution_count": 5,
     "metadata": {},
     "output_type": "execute_result"
    }
   ],
   "source": [
    "base_circuit = repetition_code_3()\n",
    "base_circuit.draw('text')"
   ]
  },
  {
   "attachments": {},
   "cell_type": "markdown",
   "id": "3c56acec",
   "metadata": {},
   "source": [
    "A bit more involved but still straightforward, no? We've just added two layers of parity checks which basically ensure that all information qbits are of the same value, if they aren't then this will be picked up by the parity checks when they are measured.\n",
    "\n",
    "### 2-B) Measuring"
   ]
  },
  {
   "cell_type": "code",
   "execution_count": 6,
   "id": "94884c2d",
   "metadata": {},
   "outputs": [],
   "source": [
    "def measure_repetition_code_3(circuit:QuantumCircuit, nb_shots:int=1024) -> Tuple[QuantumCircuit, dict]:\n",
    "    \"\"\"Performs the measurements on both ancilla qubits.\n",
    "     Returns the results obtained together with their number of occurences.\"\"\"\n",
    "    \n",
    "    c = deepcopy(circuit)\n",
    "    \n",
    "    # Add a classical register to receive the measurement results from ancilla qubits\n",
    "    cr = ClassicalRegister(2)\n",
    "    c.add_register(cr)\n",
    "    \n",
    "    c.measure(3,0) #Measures ancilla qbit 3, puts the result into cbit 0\n",
    "    c.measure(4,1)  #Measures ancilla qbit 4, puts the result into cbit 2\n",
    "\n",
    "    counts = simulate_measurements(c, nb_shots)\n",
    "\n",
    "    return c, counts\n",
    "\n",
    "def simulate_measurements(circuit:QuantumCircuit, nb_shots:int=1024) -> dict:\n",
    "    \"\"\"Simulates measurement results.\"\"\"\n",
    "    backend_sim = Aer.get_backend('qasm_simulator')\n",
    "    job_sim = backend_sim.run(transpile(circuit, backend_sim), shots=nb_shots)\n",
    "    result_sim = job_sim.result()\n",
    "    counts = result_sim.get_counts(circuit)\n",
    "    return counts"
   ]
  },
  {
   "attachments": {},
   "cell_type": "markdown",
   "id": "a37da919",
   "metadata": {},
   "source": [
    "Now let's measure both ancilla qubits to get the result. Here we should obtain 00 as all qubits were initialised at $0$ and no error was introduced."
   ]
  },
  {
   "cell_type": "code",
   "execution_count": 7,
   "id": "9c9364c8",
   "metadata": {},
   "outputs": [
    {
     "name": "stdout",
     "output_type": "stream",
     "text": [
      "Measurement outputs and their number of occurences: {'00': 1024}\n"
     ]
    },
    {
     "data": {
      "text/html": [
       "<pre style=\"word-wrap: normal;white-space: pre;background: #fff0;line-height: 1.1;font-family: &quot;Courier New&quot;,Courier,monospace\">                 ░                      ░       \n",
       "q1_0: ──■────■───░───■─────────■────────░───────\n",
       "      ┌─┴─┐  │   ░   │         │        ░       \n",
       "q1_1: ┤ X ├──┼───░───┼────■────┼────────░───────\n",
       "      └───┘┌─┴─┐ ░   │    │    │        ░       \n",
       "q1_2: ─────┤ X ├─░───┼────┼────┼────■───░───────\n",
       "           └───┘ ░ ┌─┴─┐┌─┴─┐  │    │   ░ ┌─┐   \n",
       "q2_0: ─────────────┤ X ├┤ X ├──┼────┼───░─┤M├───\n",
       "                   └───┘└───┘┌─┴─┐┌─┴─┐ ░ └╥┘┌─┐\n",
       "q2_1: ───────────────────────┤ X ├┤ X ├─░──╫─┤M├\n",
       "                             └───┘└───┘ ░  ║ └╥┘\n",
       "c0: 2/═════════════════════════════════════╩══╩═\n",
       "                                           0  1 </pre>"
      ],
      "text/plain": [
       "                 ░                      ░       \n",
       "q1_0: ──■────■───░───■─────────■────────░───────\n",
       "      ┌─┴─┐  │   ░   │         │        ░       \n",
       "q1_1: ┤ X ├──┼───░───┼────■────┼────────░───────\n",
       "      └───┘┌─┴─┐ ░   │    │    │        ░       \n",
       "q1_2: ─────┤ X ├─░───┼────┼────┼────■───░───────\n",
       "           └───┘ ░ ┌─┴─┐┌─┴─┐  │    │   ░ ┌─┐   \n",
       "q2_0: ─────────────┤ X ├┤ X ├──┼────┼───░─┤M├───\n",
       "                   └───┘└───┘┌─┴─┐┌─┴─┐ ░ └╥┘┌─┐\n",
       "q2_1: ───────────────────────┤ X ├┤ X ├─░──╫─┤M├\n",
       "                             └───┘└───┘ ░  ║ └╥┘\n",
       "c0: 2/═════════════════════════════════════╩══╩═\n",
       "                                           0  1 "
      ]
     },
     "execution_count": 7,
     "metadata": {},
     "output_type": "execute_result"
    }
   ],
   "source": [
    "error_free_circuit, counts = measure_repetition_code_3(base_circuit)\n",
    "\n",
    "print(f\"Measurement outputs and their number of occurences: {counts}\")\n",
    "error_free_circuit.draw('text')"
   ]
  },
  {
   "attachments": {},
   "cell_type": "markdown",
   "id": "635f93f1",
   "metadata": {},
   "source": [
    "We now have in `counts` all the measurement outcomes together with the number of times they happened. In this case, the circuit being deterministic, one outcome happened 100% of the time while all other possible outcomes happened 0% of the time. However note that this is not the case if the circuit is probabilistic. In that case, you would have different outcomes and different number of occurrences for each. Based on that scenario, we just need one extra step to make our process general enough, we need to look at the outcome with highest probability."
   ]
  },
  {
   "cell_type": "code",
   "execution_count": 8,
   "id": "a2de3252",
   "metadata": {},
   "outputs": [],
   "source": [
    "def most_common_output(counts:dict) -> str:\n",
    "    \"\"\" Provides the (q/c)-bit 0>n encoding of the most measured output.\"\"\"\n",
    "    return max(counts, key=counts.get)[::-1]"
   ]
  },
  {
   "cell_type": "code",
   "execution_count": 9,
   "id": "36ebb855",
   "metadata": {},
   "outputs": [
    {
     "name": "stdout",
     "output_type": "stream",
     "text": [
      "The measurement outcome obtained most frequently is: 00\n"
     ]
    }
   ],
   "source": [
    "most_frequent_out = most_common_output(counts)\n",
    "print(f\"The measurement outcome obtained most frequently is: {most_frequent_out}\")"
   ]
  },
  {
   "attachments": {},
   "cell_type": "markdown",
   "id": "3d11bca5",
   "metadata": {},
   "source": [
    "That's it, we're now done with the very first step of the process which is building the circuit and running it error-free to see the behaviour that we expect. And we've confirmed that if the circuit has no errors, an input of $\\ket{000}$ will result in a measurement outcome of $00$."
   ]
  },
  {
   "attachments": {},
   "cell_type": "markdown",
   "id": "0a315654",
   "metadata": {},
   "source": [
    "## 3) Introducing and identifying errors\n",
    "\n",
    "At this stage, we want to look at the outputs from our measurements for different errors. These outputs which correspond to measuring the parity-check results from the ancilla qbits are called the ***error syndrome***.\n",
    "\n",
    "Looking closely at the circuit, we see that the web of CNOTs is what causes a chain reaction in the case of an error occuring. With this in mind, let's construct our single bit-flip truth table (i.e. we're only allowed to have one non-zero value in the input string of bits).\n",
    "\n",
    "Note that we here describe the bitstrings and measurement outcomes assuming qbit/cbit $0$ is on the left and qbit/cbit $n$ is on the right. Qiskit displays the results of measurements in the reverse order so we need to reverse the string of measurement outcomes later on in the process to ensure consistence.\n",
    "\n",
    "| Input bitstring | Error syndrome (parity-check measurement outcome) |\n",
    "|-----------------|---------------------|\n",
    "| 000             | 00 (no error)       |\n",
    "| 100             | 11                  |\n",
    "| 010             | 10                  |\n",
    "| 001             | 01                  |\n",
    "\n",
    "This is the theory. Let's now compare it to what happens when we run the circuit on the simulator."
   ]
  },
  {
   "cell_type": "code",
   "execution_count": 10,
   "id": "a77d0095",
   "metadata": {},
   "outputs": [
    {
     "name": "stdout",
     "output_type": "stream",
     "text": [
      "For a bitflip error on qbit index 0, the most frequent syndrome was: 11\n",
      "For a bitflip error on qbit index 1, the most frequent syndrome was: 10\n",
      "For a bitflip error on qbit index 2, the most frequent syndrome was: 01\n"
     ]
    },
    {
     "data": {
      "text/html": [
       "<pre style=\"word-wrap: normal;white-space: pre;background: #fff0;line-height: 1.1;font-family: &quot;Courier New&quot;,Courier,monospace\">                  ░       ░                      ░ \n",
       "q21_0: ──■────■───░───────░───■─────────■────────░─\n",
       "       ┌─┴─┐  │   ░       ░   │         │        ░ \n",
       "q21_1: ┤ X ├──┼───░───────░───┼────■────┼────────░─\n",
       "       └───┘┌─┴─┐ ░ ┌───┐ ░   │    │    │        ░ \n",
       "q21_2: ─────┤ X ├─░─┤ X ├─░───┼────┼────┼────■───░─\n",
       "            └───┘ ░ └───┘ ░ ┌─┴─┐┌─┴─┐  │    │   ░ \n",
       "q22_0: ─────────────────────┤ X ├┤ X ├──┼────┼───░─\n",
       "                            └───┘└───┘┌─┴─┐┌─┴─┐ ░ \n",
       "q22_1: ───────────────────────────────┤ X ├┤ X ├─░─\n",
       "                                      └───┘└───┘ ░ </pre>"
      ],
      "text/plain": [
       "                  ░       ░                      ░ \n",
       "q21_0: ──■────■───░───────░───■─────────■────────░─\n",
       "       ┌─┴─┐  │   ░       ░   │         │        ░ \n",
       "q21_1: ┤ X ├──┼───░───────░───┼────■────┼────────░─\n",
       "       └───┘┌─┴─┐ ░ ┌───┐ ░   │    │    │        ░ \n",
       "q21_2: ─────┤ X ├─░─┤ X ├─░───┼────┼────┼────■───░─\n",
       "            └───┘ ░ └───┘ ░ ┌─┴─┐┌─┴─┐  │    │   ░ \n",
       "q22_0: ─────────────────────┤ X ├┤ X ├──┼────┼───░─\n",
       "                            └───┘└───┘┌─┴─┐┌─┴─┐ ░ \n",
       "q22_1: ───────────────────────────────┤ X ├┤ X ├─░─\n",
       "                                      └───┘└───┘ ░ "
      ]
     },
     "execution_count": 10,
     "metadata": {},
     "output_type": "execute_result"
    }
   ],
   "source": [
    "error_indexes = [0,1,2]\n",
    "\n",
    "example_circ = None\n",
    "for e_idx in error_indexes:\n",
    "    circuit = repetition_code_3(with_error=True, qb_idx=e_idx)\n",
    "    circuit_measured, counts = measure_repetition_code_3(circuit)\n",
    "    most_frequent_out = most_common_output(counts)\n",
    "    print(f\"For a bitflip error on qbit index {e_idx}, the most frequent syndrome was: {most_frequent_out}\")\n",
    "    example_circ = circuit\n",
    "\n",
    "example_circ.draw('text')"
   ]
  },
  {
   "attachments": {},
   "cell_type": "markdown",
   "id": "32583589",
   "metadata": {},
   "source": [
    "If we recap, so far we can:\n",
    "- Encode the information of a single logical qbit into a triplet of physical qbits using the repetition code.\n",
    "- Detect if a single bit-flip error has occured.\n",
    "- Based on the syndrome (aka measurement outcome), identify which physical qbit has suffered from a bit-flip error.\n",
    "\n",
    "What's left to do?\n",
    "\n",
    "Well, now that we can tell if an error happened (or not) and if that error happened, which error it was, the only thing left to do is to correct the error that we've spotted and get back an error-free code-word."
   ]
  },
  {
   "cell_type": "code",
   "execution_count": 11,
   "id": "df4a628c",
   "metadata": {},
   "outputs": [],
   "source": [
    "def which_qbit_suffered_an_error(syndrome:str) -> Tuple[bool, int]:\n",
    "    \"\"\"Based on the syndrome, determines which qbit was affected by a bit-flip error.\"\"\"\n",
    "    error_happened = True\n",
    "    first_parity_check_val = int(syndrome[0])\n",
    "    second_parity_check_val = int(syndrome[1])\n",
    "    if first_parity_check_val == 1: # can be either 11 or 10\n",
    "        if second_parity_check_val == 1: # 11 case\n",
    "            error_index = 0 # error occurred on qubit 0, i.e. the input string was 100 instead of 000\n",
    "        else: # 10 case\n",
    "            error_index = 1 # error occurred on qubit 1, i.e. the input string was 010 instead of 000\n",
    "    # here can only be 00 or 01\n",
    "    elif second_parity_check_val == 1: # we try to figure out if it's 01\n",
    "        error_index = 2 # error occurred on qubit 2, i.e. the input string was 001 instead of 000\n",
    "    else: # only possibility left is 00 = no error\n",
    "        error_index = -1 # just our convention, could be anything, we're not going to use it\n",
    "        error_happened = False\n",
    "\n",
    "    return error_happened, error_index"
   ]
  },
  {
   "attachments": {},
   "cell_type": "markdown",
   "id": "1304db74",
   "metadata": {},
   "source": [
    "## 4) Correcting errors\n",
    "The last step of this process is to apply an error correction action based on the syndrome that was detected."
   ]
  },
  {
   "cell_type": "code",
   "execution_count": 12,
   "id": "3a0eb898",
   "metadata": {},
   "outputs": [],
   "source": [
    "def correct_error(circuit:QuantumCircuit, syndrome:str) -> QuantumCircuit:\n",
    "    c = deepcopy(circuit)\n",
    "    error_happened, error_index = which_qbit_suffered_an_error(syndrome)\n",
    "    if error_happened:\n",
    "        c.x(error_index)\n",
    "    return c"
   ]
  },
  {
   "attachments": {},
   "cell_type": "markdown",
   "id": "c67a0770",
   "metadata": {},
   "source": [
    "We update the measurement process to now look at the three qbits encoding the information rather than the parity check ones."
   ]
  },
  {
   "cell_type": "code",
   "execution_count": 13,
   "id": "2e6f2280",
   "metadata": {},
   "outputs": [],
   "source": [
    "def measure_corrected_circuit(circuit:QuantumCircuit, nb_shots:int=1024) -> Tuple[QuantumCircuit, dict]:\n",
    "    \"\"\"Performs the measurements on both ancilla qubits.\n",
    "     Returns the results obtained together with their number of occurences.\"\"\"\n",
    "    \n",
    "    c = deepcopy(circuit)\n",
    "    \n",
    "    # Add a classical register to receive the measurement results from ancilla qubits\n",
    "    cr = ClassicalRegister(3)\n",
    "    c.add_register(cr)\n",
    "    \n",
    "    c.measure(0,0)\n",
    "    c.measure(1,1)\n",
    "    c.measure(2,2)\n",
    "\n",
    "    counts = simulate_measurements(c, nb_shots)\n",
    "\n",
    "    return c, counts"
   ]
  },
  {
   "attachments": {},
   "cell_type": "markdown",
   "id": "5ff67aa3",
   "metadata": {},
   "source": [
    "And now let's apply our scheme, namely identifying the error based on the syndrome and correcting it."
   ]
  },
  {
   "cell_type": "code",
   "execution_count": 14,
   "id": "d0a0af55",
   "metadata": {},
   "outputs": [
    {
     "name": "stdout",
     "output_type": "stream",
     "text": [
      "For a bitflip error on qbit index 0 in a circuit encoding the value 0, the post-correction bitstring was 000\n",
      "For a bitflip error on qbit index 1 in a circuit encoding the value 0, the post-correction bitstring was 000\n",
      "For a bitflip error on qbit index 2 in a circuit encoding the value 0, the post-correction bitstring was 000\n",
      "For a bitflip error on qbit index 0 in a circuit encoding the value 1, the post-correction bitstring was 111\n",
      "For a bitflip error on qbit index 1 in a circuit encoding the value 1, the post-correction bitstring was 111\n",
      "For a bitflip error on qbit index 2 in a circuit encoding the value 1, the post-correction bitstring was 111\n"
     ]
    },
    {
     "data": {
      "text/html": [
       "<pre style=\"word-wrap: normal;white-space: pre;background: #fff0;line-height: 1.1;font-family: &quot;Courier New&quot;,Courier,monospace\">       ┌───┐ ░            ░       ░                      ░ \n",
       "q88_0: ┤ X ├─░───■────■───░───────░───■─────────■────────░─\n",
       "       └───┘ ░ ┌─┴─┐  │   ░       ░   │         │        ░ \n",
       "q88_1: ──────░─┤ X ├──┼───░───────░───┼────■────┼────────░─\n",
       "             ░ └───┘┌─┴─┐ ░ ┌───┐ ░   │    │    │        ░ \n",
       "q88_2: ──────░──────┤ X ├─░─┤ X ├─░───┼────┼────┼────■───░─\n",
       "             ░      └───┘ ░ └───┘ ░ ┌─┴─┐┌─┴─┐  │    │   ░ \n",
       "q89_0: ─────────────────────────────┤ X ├┤ X ├──┼────┼───░─\n",
       "                                    └───┘└───┘┌─┴─┐┌─┴─┐ ░ \n",
       "q89_1: ───────────────────────────────────────┤ X ├┤ X ├─░─\n",
       "                                              └───┘└───┘ ░ </pre>"
      ],
      "text/plain": [
       "       ┌───┐ ░            ░       ░                      ░ \n",
       "q88_0: ┤ X ├─░───■────■───░───────░───■─────────■────────░─\n",
       "       └───┘ ░ ┌─┴─┐  │   ░       ░   │         │        ░ \n",
       "q88_1: ──────░─┤ X ├──┼───░───────░───┼────■────┼────────░─\n",
       "             ░ └───┘┌─┴─┐ ░ ┌───┐ ░   │    │    │        ░ \n",
       "q88_2: ──────░──────┤ X ├─░─┤ X ├─░───┼────┼────┼────■───░─\n",
       "             ░      └───┘ ░ └───┘ ░ ┌─┴─┐┌─┴─┐  │    │   ░ \n",
       "q89_0: ─────────────────────────────┤ X ├┤ X ├──┼────┼───░─\n",
       "                                    └───┘└───┘┌─┴─┐┌─┴─┐ ░ \n",
       "q89_1: ───────────────────────────────────────┤ X ├┤ X ├─░─\n",
       "                                              └───┘└───┘ ░ "
      ]
     },
     "execution_count": 14,
     "metadata": {},
     "output_type": "execute_result"
    }
   ],
   "source": [
    "logical_values = [0,1]\n",
    "error_indexes = [0,1,2]\n",
    "\n",
    "example_circ = None\n",
    "for log_val in logical_values:\n",
    "    for e_idx in error_indexes:\n",
    "        circuit = repetition_code_3(logical_qb_val=log_val, with_error=True, qb_idx=e_idx)\n",
    "        circuit_measured, counts = measure_repetition_code_3(circuit)\n",
    "        most_frequent_out = most_common_output(counts)\n",
    "        syndrome = most_common_output(counts)\n",
    "        corrected_circuit = correct_error(circuit, syndrome)\n",
    "        corrected_circuit, corrected_counts = measure_corrected_circuit(corrected_circuit)\n",
    "        post_correction_output = most_common_output(corrected_counts)\n",
    "        print(f\"For a bitflip error on qbit index {e_idx} in a circuit encoding the value {log_val}, the post-correction bitstring was {post_correction_output}\")\n",
    "        example_circ = circuit\n",
    "\n",
    "example_circ.draw('text')"
   ]
  },
  {
   "attachments": {},
   "cell_type": "markdown",
   "id": "84dd59ef",
   "metadata": {},
   "source": [
    "We can see that this scheme works:\n",
    "- No matter the logical value encoded (0 or 1).\n",
    "- No matter which qbit index the error occurs on.\n",
    "\n",
    "The quantum repetition code works."
   ]
  },
  {
   "attachments": {},
   "cell_type": "markdown",
   "id": "c4ad634f",
   "metadata": {},
   "source": [
    "## 5) A more elegant repetition code with the Toffoli gate\n",
    "Up until now we have looked at a version that works. It's a bit clunky (we need to add 2 ancilla qbits, 2 cbits, apply corrections based on measurement results...) but it works. This approach is called **measurement-based QEC** or MBQEC and basically relies on measurement outcomes to determine the error correction action that must be taken.\n",
    "\n",
    "However another version of the repetition code exists which doesn't need to add any ancilla qbits nor cbits and more importantly doesn't need to perform any measurements. It's leaner, faster (short-cuts the heavy measurement process) and in our opinion just more aesthetic. So why didn't we start with this one in the first place? Because it has one down side and it's that it's a less didactic way to do things. Since it's a more compact circuit, several steps are lumped into a single one and we don't get the nice step-by-step explanation of how to identify a syndrome and then apply corrections based on it as this is taken care of by the Toffoli gate itself. But the process is still there, syndrome identification and from there decision on the correction action is still present, but it's embedded in the Toffoli gate's truth table such that we don't get to do anything."
   ]
  },
  {
   "cell_type": "code",
   "execution_count": 15,
   "id": "c286204f",
   "metadata": {},
   "outputs": [
    {
     "data": {
      "text/html": [
       "<pre style=\"word-wrap: normal;white-space: pre;background: #fff0;line-height: 1.1;font-family: &quot;Courier New&quot;,Courier,monospace\">                   ░            ░ ┌───┐\n",
       "q100_0: ──■────■───░───■────■───░─┤ X ├\n",
       "        ┌─┴─┐  │   ░ ┌─┴─┐  │   ░ └─┬─┘\n",
       "q100_1: ┤ X ├──┼───░─┤ X ├──┼───░───■──\n",
       "        └───┘┌─┴─┐ ░ └───┘┌─┴─┐ ░   │  \n",
       "q100_2: ─────┤ X ├─░──────┤ X ├─░───■──\n",
       "             └───┘ ░      └───┘ ░      </pre>"
      ],
      "text/plain": [
       "                   ░            ░ ┌───┐\n",
       "q100_0: ──■────■───░───■────■───░─┤ X ├\n",
       "        ┌─┴─┐  │   ░ ┌─┴─┐  │   ░ └─┬─┘\n",
       "q100_1: ┤ X ├──┼───░─┤ X ├──┼───░───■──\n",
       "        └───┘┌─┴─┐ ░ └───┘┌─┴─┐ ░   │  \n",
       "q100_2: ─────┤ X ├─░──────┤ X ├─░───■──\n",
       "             └───┘ ░      └───┘ ░      "
      ]
     },
     "execution_count": 15,
     "metadata": {},
     "output_type": "execute_result"
    }
   ],
   "source": [
    "def toffoli_repetition_code_3(logical_qb_val:int=0, with_error:bool=False, qb_idx:int=-1) -> QuantumCircuit:\n",
    "    # Encode the logical qubit information into three physical qubits\n",
    "    qr1 = QuantumRegister(3)\n",
    "    circuit = QuantumCircuit(qr1)\n",
    "\n",
    "    if logical_qb_val == 1:\n",
    "        circuit.x(0)\n",
    "        circuit.barrier(qr1) #for visualisation only\n",
    "\n",
    "    circuit = encode_1_into_3(circuit)\n",
    "    circuit.barrier(qr1) #for visualisation only\n",
    "\n",
    "    # If there is an error, introduce it here on deisred qbit\n",
    "    if with_error:\n",
    "        circuit.x(qb_idx)\n",
    "        circuit.barrier(qr1) #for visualisation only\n",
    "\n",
    "    # This step is necessary for the Toffoli-based RC and replaces MBQEC's parity check\n",
    "    circuit.cnot(0,1)\n",
    "    circuit.cnot(0,2)\n",
    "    circuit.barrier(qr1) #for visualisation only\n",
    "   \n",
    "    # Add a Toffoli gate to correct potential errors\n",
    "    circuit.ccx(2,1,0) # the Toffoli gate is also called CCNOT or CCX, they're all one and the same\n",
    "\n",
    "    return circuit\n",
    "\n",
    "c = toffoli_repetition_code_3(logical_qb_val=0)\n",
    "c.draw('text')\n",
    "\n"
   ]
  },
  {
   "attachments": {},
   "cell_type": "markdown",
   "id": "11b069d8",
   "metadata": {},
   "source": [
    "That's our new Toffoli-RC circuit. Slick, isn't it? See how compact it is without it's ancillas and classical bits?"
   ]
  },
  {
   "cell_type": "code",
   "execution_count": 16,
   "id": "60b43ad8",
   "metadata": {},
   "outputs": [],
   "source": [
    "def measure_toffoli_RC_circuit(circuit:QuantumCircuit, nb_shots:int=1024) -> Tuple[QuantumCircuit, dict]:\n",
    "    c = deepcopy(circuit)\n",
    "    \n",
    "    cr = ClassicalRegister(1) # need one classical register to receive the measurement outcomes\n",
    "    c.add_register(cr)\n",
    "    \n",
    "    c.measure(0,0)\n",
    "\n",
    "    counts = simulate_measurements(c, nb_shots)\n",
    "\n",
    "    return c, counts"
   ]
  },
  {
   "attachments": {},
   "cell_type": "markdown",
   "id": "d7e43a44",
   "metadata": {},
   "source": [
    "And just like its MB counterpart, it works in all cases."
   ]
  },
  {
   "cell_type": "code",
   "execution_count": 18,
   "id": "442f34b4",
   "metadata": {},
   "outputs": [
    {
     "name": "stdout",
     "output_type": "stream",
     "text": [
      "For a bitflip error on qbit index 0 on a circuit encoding 0 the corrected circuit yielded 0\n",
      "For a bitflip error on qbit index 1 on a circuit encoding 0 the corrected circuit yielded 0\n",
      "For a bitflip error on qbit index 2 on a circuit encoding 0 the corrected circuit yielded 0\n",
      "For a bitflip error on qbit index 0 on a circuit encoding 1 the corrected circuit yielded 1\n",
      "For a bitflip error on qbit index 1 on a circuit encoding 1 the corrected circuit yielded 1\n",
      "For a bitflip error on qbit index 2 on a circuit encoding 1 the corrected circuit yielded 1\n"
     ]
    },
    {
     "data": {
      "text/html": [
       "<pre style=\"word-wrap: normal;white-space: pre;background: #fff0;line-height: 1.1;font-family: &quot;Courier New&quot;,Courier,monospace\">        ┌───┐ ░            ░       ░            ░ ┌───┐┌─┐\n",
       "q167_0: ┤ X ├─░───■────■───░───────░───■────■───░─┤ X ├┤M├\n",
       "        └───┘ ░ ┌─┴─┐  │   ░       ░ ┌─┴─┐  │   ░ └─┬─┘└╥┘\n",
       "q167_1: ──────░─┤ X ├──┼───░───────░─┤ X ├──┼───░───■───╫─\n",
       "              ░ └───┘┌─┴─┐ ░ ┌───┐ ░ └───┘┌─┴─┐ ░   │   ║ \n",
       "q167_2: ──────░──────┤ X ├─░─┤ X ├─░──────┤ X ├─░───■───╫─\n",
       "              ░      └───┘ ░ └───┘ ░      └───┘ ░       ║ \n",
       " c27: 1/════════════════════════════════════════════════╩═\n",
       "                                                        0 </pre>"
      ],
      "text/plain": [
       "        ┌───┐ ░            ░       ░            ░ ┌───┐┌─┐\n",
       "q167_0: ┤ X ├─░───■────■───░───────░───■────■───░─┤ X ├┤M├\n",
       "        └───┘ ░ ┌─┴─┐  │   ░       ░ ┌─┴─┐  │   ░ └─┬─┘└╥┘\n",
       "q167_1: ──────░─┤ X ├──┼───░───────░─┤ X ├──┼───░───■───╫─\n",
       "              ░ └───┘┌─┴─┐ ░ ┌───┐ ░ └───┘┌─┴─┐ ░   │   ║ \n",
       "q167_2: ──────░──────┤ X ├─░─┤ X ├─░──────┤ X ├─░───■───╫─\n",
       "              ░      └───┘ ░ └───┘ ░      └───┘ ░       ║ \n",
       " c27: 1/════════════════════════════════════════════════╩═\n",
       "                                                        0 "
      ]
     },
     "execution_count": 18,
     "metadata": {},
     "output_type": "execute_result"
    }
   ],
   "source": [
    "values_of_logical_qb = [0,1]\n",
    "idx_of_error = [0,1,2]\n",
    "\n",
    "example_circ = None\n",
    "for log_val in values_of_logical_qb:\n",
    "    for e_idx in idx_of_error:\n",
    "        circuit = toffoli_repetition_code_3(logical_qb_val=log_val, with_error=True, qb_idx=e_idx)\n",
    "        circuit, measurement_res = measure_toffoli_RC_circuit(circuit)\n",
    "        res = most_common_output(measurement_res)\n",
    "        print(f\"For a bitflip error on qbit index {e_idx} on a circuit encoding {log_val} the corrected circuit yielded {res}\")\n",
    "        example_circ = circuit\n",
    "\n",
    "example_circ.draw('text')\n"
   ]
  },
  {
   "attachments": {},
   "cell_type": "markdown",
   "id": "af2a4e24",
   "metadata": {},
   "source": [
    "## 6) Conclusion\n",
    "\n",
    "In this chapter we have seen how to implement a simple QEC code called the repetition code to correct single bit-flip errors.\n",
    "We have learnt:\n",
    "- How to encode logical information into physical information using repetition.\n",
    "- How to interpret and use error syndromes.\n",
    "- How to implement both a measurement-based and a direct approach for the QRC.\n",
    "\n",
    "In the next chapter, we'll see how to upgrade this RC to also correct for phase-flip errors."
   ]
  },
  {
   "attachments": {},
   "cell_type": "markdown",
   "id": "5a9fdadd",
   "metadata": {},
   "source": [
    "Authors : Richard A. Wolf, ??? - License: CC-BY-SA-NC"
   ]
  }
 ],
 "metadata": {
  "kernelspec": {
   "display_name": "Python 3 (ipykernel)",
   "language": "python",
   "name": "python3"
  },
  "language_info": {
   "codemirror_mode": {
    "name": "ipython",
    "version": 3
   },
   "file_extension": ".py",
   "mimetype": "text/x-python",
   "name": "python",
   "nbconvert_exporter": "python",
   "pygments_lexer": "ipython3",
   "version": "3.9.17"
  }
 },
 "nbformat": 4,
 "nbformat_minor": 5
}
