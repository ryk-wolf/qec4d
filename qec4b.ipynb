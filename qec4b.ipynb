{
 "cells": [
  {
   "attachments": {},
   "cell_type": "markdown",
   "metadata": {},
   "source": [
    "# Quantum Error Correction for Dummies (QEC4D)\n",
    "# Chapter IV* - Stabiliser formalism, centralisers and normalisers\n",
    "\n",
    "This chapter is an optional one, more theory-heavy. Feel free to skip it or dive passionately into it. You will not need to master its contents to follow the next chapters. But we still think you should have a glance because formalism is fun (no, really, it is, we promiss!)"
   ]
  },
  {
   "attachments": {},
   "cell_type": "markdown",
   "metadata": {},
   "source": [
    "## Stabilisers: formal definition"
   ]
  },
  {
   "cell_type": "markdown",
   "metadata": {},
   "source": []
  }
 ],
 "metadata": {
  "language_info": {
   "name": "python"
  },
  "orig_nbformat": 4
 },
 "nbformat": 4,
 "nbformat_minor": 2
}
