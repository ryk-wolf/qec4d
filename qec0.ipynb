{
 "cells": [
  {
   "attachments": {},
   "cell_type": "markdown",
   "metadata": {},
   "source": [
    "# Quantum error correction for dummies\n",
    "# Chapter 0 - What is (quantum) error correction\n",
    "\n",
    "---\n",
    "**TLDR** \n",
    "We know you're all busy so we'll have some of these TLDR sections sprinkled around to save time.\n",
    "You can jump to the next chapter and come back here if anything isn't clear.\n",
    "\n",
    "---\n",
    "\n",
    "## Flash introduction\n",
    "This series on Quantum Error Correction for Dummies (QEC4D) aims at taking a practical step-by-step approach to QEC without making extravagant asumptions about background knowledge of the reader.\n",
    "There are plenty of long ~~boring and confusing~~ introductions to this topic that go into great mathematical details assuming their readers hold PhDs in mathematics, information theory and quantum physics at the very least. Instead of leaning into this comfortable bias, we here make the bold assumption that our readers have no prior knowledge of (Q)EC.\n",
    "\n",
    "## The 5 key notions you need to understand QEC\n",
    "\n",
    "### 1/5 - Logical vs. physical qbits\n",
    "\n",
    "### 2/5 - Encoding/Decoding\n",
    "\n",
    "### 3/5 - Error types\n",
    "\n",
    "#### Bit flips or X-errors\n",
    "\n",
    "#### Phase flips or Z-errors\n",
    "\n",
    "## The 5 questions about (quantum) error correction everyone should ask\n",
    "On top of the myriads of equations that you can easily come accross if you pick up any paper on (Q)EC, there are however 5 fundamental questions that we argue should be answered before anyone jumps into anything regarding (Q)EC.\n",
    "\n",
    "### What do we mean by encoding/decoding?\n",
    "Encoding is the process by which we choose some representation for some piece of information. Decoding is the process by which we infer some piece of information based on the representation that was given to us. Nothing more. The E/D process is used by all of us daily and doesn't have anything to do with computers.\n",
    "\n",
    "#### Example 1:\n",
    "When you talk about your youngest daughter Amara, you will call either either *honey* or *you* when talking directly to her, you could call her *your sister* when talking about her to her siblings, you might choose to call her * **your** daughter* when talking to your partner about some mischief she was up to or casually use *your grand-daughter* when proudly announcing her brilliant grades to her grand-parents over the phone. But in all these cases, no matter what words you're choosing, you're still refering to the same person. Going further, if you have a newborn babay, you might show a picture of her while pointing instead of using her name. All of these are different ways of ***encoding*** information. In this case the piece of information is her and any word, picture, film or drawing you choose to represent her is the **encoding** you choose.\n",
    "So what's decoding here? Decoding is the process the person you're communicating with uses to kow that you're talking about Amara no matter whether you told them *Amara*, *our daughter*, *your daughter*, *she* or *the little pixie*. If you have four daughters, you're more likely to use some specific name than the generic *she*. Why? Because we want to communicate as efficiently as possible and generic information is not very efficient. If you say *she* and that can mean any of your four daughters, you will have to specify later on which *she* you're referring to, while using *Amara* directly saves you that effort. We tend to want to be understood as well as possible so we use encodings that are specific enough to be understood precisely, this means that ***we take into account the decoding process and want to choose an encoding that allows a unique decoding rather than one that could result in several decoding outcomes***.\n",
    "\n",
    "#### Example 2:\n",
    "If you speak several languages, choosing one of them to express yourself is a choice of encoding. An apple can be called *apple*, *manzana*, *pomme* or *ringo*, they're all valid encodings for the concept of that round sweet and crunchy fruit. Which laguage you choose will usually depend on several factors, including the capacity of the person your're talking with to understand that language. Instinctively, we will use English rather than Spanish if our friend doesn't know a word of Spanish, even if Spanish is our first language. Why? Because the goal is to get information accross, so ***we choose our encoding based on what we know about the decoding process and try to choose an encoding that will make the decoding as simple as possible***.\n",
    "\n",
    "### What are those errors that we want to correct?\n",
    "Errors can arise in many forms depending on how the information was communicated. They're usually called **noise** on the **comunication channel**. If you're talking with someone over the phone, the error is a loud motorcycle zooming through that covers some syllables of your sentence. If you're typing a text the error is your clumsy finger which slips and writes **b**et instead of **v**et.\n",
    "\n",
    "### What are the goals of encoding/decoding?\n",
    "Succesfull communication. Simple as that. Now *how* to achieve such communication is another story, but the goal is pretty straightforward.\n",
    "In most -if not all- encoding/decoding processes, there are generally 5 core goals which we label TIDEC. We want to be able to:\n",
    "- **T** ell whether error-s has/have occured.\n",
    "- **I** dentify which errors have occurred.\n",
    "- **D** etermine how many errors have occurred. \n",
    "- **E** stablish where errors have occured.\n",
    "- **C** orrect those errors."
   ]
  },
  {
   "attachments": {},
   "cell_type": "markdown",
   "metadata": {},
   "source": [
    "Next chapters:\n",
    "- 5 qbit\n",
    "- Steane\n",
    "- Topological https://arxiv.org/abs/1311.0277"
   ]
  },
  {
   "attachments": {},
   "cell_type": "markdown",
   "metadata": {},
   "source": [
    "# The ten questions on (quantum) information processing and (quantum) error correction I wish someone had answered for me when I started\n",
    "\n",
    "## Can the CNOT gate and the no-cloning theorem co-exist? Doesn't one kind of contradict the other?\n",
    "Yes, they can. No, they don't.\n",
    "\n",
    "This one puzzled me when I first started thinking about what the CNOT did and compared it with the all too famous *quantum information can't be copied*. If I created a circuit with a CNOT conditioning the value of $\\ket{0}_1$ on the value of $\\ket{0}_0$, wasn't I *copying* the information of $\\ket{0}_0$ into $\\ket{0}_1$?!?\n",
    "\n",
    "Short answer: no, I wasn't.\n",
    "\n",
    "## Why can't we just keep adding more qbits to our code to reduce error probability?\n",
    "Wouldn't it be nice to just create arbitrarily big code words that could correct any arbitrarily large number of errors? It would. Now why isn't this possible? Because very sadly, the qbits that we use to protect us from errors are themselves... prone to errors.\n",
    "\n",
    "## How come protecting against X and Z errors is enough? Arent't there any other types of errors that can occur?\n",
    "Surprisingly enough, X and Z errors are the only ones we need to care about because they are the only ones that can affect a qbit. Why so? Because the combination of any quantum state $\\ket{\\phi}$ and any error channel $\\ket{e}$ can always be expressed as $\\ket{\\phi}\\ket{e} = \\mathbb{I}\\ket{\\phi} + \\mathbf{X}\\ket{\\phi} + \\mathbf{Z}\\ket{\\phi} + \\mathbf{Y}\\ket{\\phi}$ where $\\mathbb{I}\\ket{\\phi}$ is the term where nothing happens, $\\mathbf{X}\\ket{\\phi}$ is the term where a bit-flip error happens, $\\mathbf{Z}\\ket{\\phi}$ is the term where a phase-flip error happens and $\\mathbf{Y}\\ket{\\phi}$ is the term where both a phase and a bit-flip occur."
   ]
  },
  {
   "cell_type": "markdown",
   "metadata": {},
   "source": []
  }
 ],
 "metadata": {
  "language_info": {
   "name": "python"
  },
  "orig_nbformat": 4
 },
 "nbformat": 4,
 "nbformat_minor": 2
}
