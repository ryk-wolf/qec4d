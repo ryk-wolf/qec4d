{
 "cells": [
  {
   "attachments": {},
   "cell_type": "markdown",
   "metadata": {},
   "source": [
    "# Quantum Error Correction for Dummies (QEC4D)\n",
    "# Chapter IV - Stabilisers, centralisers and Normalisers\n",
    "\n",
    "This chapter will be a more theoretical interlude to the pragmatic approach we've had so far. We'll be answering the questions of what stabilisers, normalisers and centralisers do in the context of QEC.\n",
    "\n",
    "## 0) Overview\n",
    "\n",
    "## 1) Stabilisers\n",
    "Informally, stabilisers are operators that leave a quantum state unchanged after being applied to it. Let $\\mathcal{S}$ denote the set of stabilisers, their property can be expressed as $\\mathbf{S}\\ket{\\phi} = \\ket{\\phi} \\implies \\mathbf{S} \\in \\mathcal{S}$. \n",
    "Stabilisers are often defined as being composed of combinations of Pauli matrices of length $n$, but in theory we could use any unitary matrices that fulfill some properties.\n",
    "\n",
    "\n",
    "---\n",
    "**Definition**\n",
    "Stabilizers are a collection of operators $\\mathcal{S}$ acting in some quantum state $\\ket{\\phi}$ such that $\\mathcal{S}\\ket{\\phi} = \\ket{\\phi}$. This behaviour entails a certain number of properties which all generators of the stabilizer group must have, namely:\n",
    "- They have at least one $+1$ eigenvalue since there would otherwise be no state that they can stabilize.\n",
    "- The product of two stabilizer operators is again a stabilizer operator.\n",
    "\n",
    "Another set of properties are desirable:\n",
    "- It should be easy to distinguish between the different eigenvalues of each operator, since otherwise detecting errors would be hard, this entails that operators considered often have no more than $\\frac{1}{poly(n)}$ where $n$ is the number of qbits they act on.\n",
    "- The operator should be simple enough so as to limit the possibility to introduce complication and confusion, to this end we want to consider only tensor products of single qbit operations.\n",
    "- We want the common $+1$ eigenspace of the set of operators to be as large as possible, therefore we want it to be easy for eigenvalues of them to multiply to +1. This motivates the choice of operators with only $+1$ and $-1$ eigenvalues.\n",
    "\n",
    "---\n",
    "\n",
    "\n",
    "### 1-B) How many stabilizer generators do we need?\n",
    "\n",
    "Each of the Pauli stabilizers corresponds to asking a question which partitions the state space into 2: the code space and the error space. Let's think back about our 3-qbit bit-flip repetition code.\n",
    "- We have 8 possible words $\\ket{000}, \\ket{100}, \\ket{010}, \\ket{001}, \\ket{011}, \\ket{110}, \\ket{101}, \\ket{111}$.\n",
    "But in reality, some of these words are the mirrors of others, i.e. they are the symmetric thing that would have happened depending on whether we started with a logical $1$ or a logigal $0$.\n",
    "- There are exactly 4 such mirror pairs:  $\\{\\ket{000},\\ket{111} \\}$, $\\{\\ket{100}, \\ket{011}\\}$ $\\{\\ket{010}, \\ket{101}\\}$ and finally $\\{\\ket{001}, \\ket{110} \\}$.\n",
    "Here it's important to understand that all we want to be able to do is to establish which pair we have. We do **not** want to determine which item within the pair we have. Why? Because that would mean collapsing the state since we would be extracting information. All we want and need the stabilizers to do is tell us where we stand between those 4 pairs, not which item of a any given pair we have.\n",
    "\n",
    "---\n",
    "**Property**\n",
    "\n",
    "Let $n$ denote the number of physical qbits and $k$ denote the number of logical qbits encoded into them. Then the number of independent ***generators*** of the ***stabiliser group*** $l$ is given by $l = n-k$.\n",
    "\n",
    "---\n",
    "\n",
    "### 1-C) Stabilizing the $1 \\mapsto 3$ encoding\n",
    "\n",
    "We have $1$ logical qbit encoded into $3$ physical qbits. Based on the property we defined earlier, this means that the number of stabilizer generators we need for this task is $3-1=2$. We pick the following 2: $\\mathbf{Z}\\mathbf{Z}\\mathbb{I}$ and $\\mathbf{I}\\mathbf{Z}\\mathbb{Z}$.\n",
    "Let us first arange the pairs into a table.\n",
    "|   |                        |                        |\n",
    "|---|------------------------|------------------------|\n",
    "|   | $\\ket{000}, \\ket{111}$ | $\\ket{100}, \\ket{011}$ |\n",
    "|   | $\\ket{001}, \\ket{110}$ | $\\ket{010}, \\ket{101}$ |\n",
    "\n",
    "\n",
    "Now We use the first element in our stabilizer group: $\\mathbf{Z}\\mathbf{Z}\\mathbb{I}$. This one will partition the code/error space into 2 based on whether the parity of the first 2 qbits of the word is the same or not. Note that formally this step is equivalent to checking whether applying the stabilizer to the state yields an eigenvalue of $+1$ (yes) or $-1$ (no).\n",
    "\n",
    "|   | ZZI = yes              | ZZI = no               |\n",
    "|---|------------------------|------------------------|\n",
    "|   | $\\ket{000}, \\ket{111}$ | $\\ket{100}, \\ket{011}$ |\n",
    "|   | $\\ket{001}, \\ket{110}$ | $\\ket{010}, \\ket{101}$ |\n",
    "\n",
    "With this first step, we know that the set of potentially valid code word pairs is -so far- $\\{\\ket{000}, \\ket{111}\\}$ and $\\{\\ket{001}, \\ket{110}\\}$ and we've discarded $\\{\\ket{100}, \\ket{011}\\}$ and $\\{\\ket{010}, \\ket{101}\\}$ as invalid.\n",
    "Let us use the next element in our stabilizer group: $\\mathbf{I}\\mathbf{Z}\\mathbb{Z}$ which here evaluates whether the last 2 qbits share the same parity.\n",
    "\n",
    "|           | ZZI = yes              | ZZI = no               |\n",
    "|-----------|------------------------|------------------------|\n",
    "| IZZ = yes | $\\ket{000}, \\ket{111}$ | $\\ket{100}, \\ket{011}$ |\n",
    "| IZZ = no  | $\\ket{001}, \\ket{110}$ | $\\ket{010}, \\ket{101}$ |\n",
    "\n",
    "Here again the space is split into potentially valid code word pairs $\\ket{000}, \\ket{111}$ and $\\ket{100}, \\ket{011}$ and invalid ones $\\ket{001}, \\ket{110}$ and $\\ket{010}, \\ket{101}$.\n",
    "\n",
    "Now combining the information from both steps, we know that the only pair which is stabilized by both elements of the stabilizer group $\\mathbf{Z}\\mathbf{Z}\\mathbb{I}$ and $\\mathbf{I}\\mathbf{Z}\\mathbb{Z}$ is $\\ket{000}, \\ket{111}$. Therefore we know that the only error-free pair is this one. Looking at it we see that indeed, this pair is the only one where all three physical qbits have the same value, which is ultimately the sign that they form a valid code word. \n",
    "\n",
    "\n",
    "### 1-D) Example: stabiliser for the $1 \\mapsto 3$ encoding\n",
    "So, assuming we're using the Pauli group to define our stabilisers, looking at length-3 stabilisers is the same as asking which combinations of 3 Pauli matrices give us back the identity. We can start with the simplest one:\n",
    "- $\\mathbb{I}\\mathbb{I}\\mathbb{I}\\ket{\\phi} = \\ket{\\phi}$\n",
    "\n",
    "Yep, that works. Applying identity 3 times *does* yield identity. But now what? Is that it? Not quite. Now is a good time to think about how to construct identity in terms of other paulis. For instance, we know that $\\mathbf{X}\\mathbf{X} = \\mathbb{I}$ and that $\\mathbf{Z}\\mathbf{Z} = \\mathbb{I}$, so we'll use this to add some more stabilisers to our set:\n",
    "- $\\mathbf{X}\\mathbf{X}\\mathbb{I}\\ket{\\phi} = \\ket{\\phi}$\n",
    "- $\\mathbb{I}\\mathbb{X}\\mathbf{X}\\ket{\\phi} = \\ket{\\phi}$\n",
    "- $\\mathbf{X}\\mathbb{I}\\mathbf{X}\\ket{\\phi} = \\ket{\\phi}$\n",
    "- $\\mathbf{Z}\\mathbf{Z}\\mathbb{I}\\ket{\\phi} = \\ket{\\phi}$\n",
    "- $\\mathbb{I}\\mathbf{Z}\\mathbf{Z}\\ket{\\phi} = \\ket{\\phi}$\n",
    "- $\\mathbf{Z}\\mathbb{I}\\mathbf{Z}\\ket{\\phi} = \\ket{\\phi}$"
   ]
  },
  {
   "cell_type": "code",
   "execution_count": 1,
   "metadata": {},
   "outputs": [],
   "source": [
    "# First, a few imports\n",
    "import numpy as np\n",
    "from copy import deepcopy\n",
    "from numpy.random import rand, seed\n",
    "from qiskit import *\n",
    "from qiskit import Aer\n",
    "from typing import List, Optional, Tuple\n",
    "\n",
    "def simulate_measurements(circuit:QuantumCircuit, nb_shots:int=1024) -> dict:\n",
    "    \"\"\"Simulates measurement results.\"\"\"\n",
    "    backend_sim = Aer.get_backend('qasm_simulator')\n",
    "    job_sim = backend_sim.run(transpile(circuit, backend_sim), shots=nb_shots)\n",
    "    result_sim = job_sim.result()\n",
    "    counts = result_sim.get_counts(circuit)\n",
    "    return counts\n",
    "\n",
    "def most_common_output(counts:dict) -> str:\n",
    "    \"\"\" Provides the (q/c)-bit 0>n encoding of the most measured output.\"\"\"\n",
    "    return int(max(counts, key=counts.get)[::-1])"
   ]
  },
  {
   "attachments": {},
   "cell_type": "markdown",
   "metadata": {},
   "source": [
    "### 1-E) Building the $\\mathbf{Z}\\mathbf{Z}\\mathbb{I}$ stabilizer\n",
    "We apply $\\mathbf{Z}$ to some qbit at index $i$, controlled on the first qbit and doing the same again applied to the same qbit at index $i$ but controlled on the second qbit."
   ]
  },
  {
   "cell_type": "code",
   "execution_count": 2,
   "metadata": {},
   "outputs": [
    {
     "name": "stdout",
     "output_type": "stream",
     "text": [
      "Measured result for the ZZI circuit : 0\n"
     ]
    },
    {
     "data": {
      "text/html": [
       "<pre style=\"word-wrap: normal;white-space: pre;background: #fff0;line-height: 1.1;font-family: &quot;Courier New&quot;,Courier,monospace\">                   \n",
       "q0_0: ──■──────────\n",
       "        │          \n",
       "q0_1: ──┼────■─────\n",
       "      ┌─┴─┐┌─┴─┐┌─┐\n",
       "q0_2: ┤ X ├┤ X ├┤M├\n",
       "      └───┘└───┘└╥┘\n",
       "c0: 1/═══════════╩═\n",
       "                 0 </pre>"
      ],
      "text/plain": [
       "                   \n",
       "q0_0: ──■──────────\n",
       "        │          \n",
       "q0_1: ──┼────■─────\n",
       "      ┌─┴─┐┌─┴─┐┌─┐\n",
       "q0_2: ┤ X ├┤ X ├┤M├\n",
       "      └───┘└───┘└╥┘\n",
       "c0: 1/═══════════╩═\n",
       "                 0 "
      ]
     },
     "execution_count": 2,
     "metadata": {},
     "output_type": "execute_result"
    }
   ],
   "source": [
    "# ZZI on an error-free circuit\n",
    "c0 = QuantumCircuit(QuantumRegister(3), ClassicalRegister(1))\n",
    "c0.cx(0,2)\n",
    "c0.cx(1,2)\n",
    "c0.measure(2,0)\n",
    "c0_counts = simulate_measurements(c0)\n",
    "c0_result = most_common_output(c0_counts)\n",
    "print(f\"Measured result for the ZZI circuit : {c0_result}\")\n",
    "c0.draw('text')\n"
   ]
  },
  {
   "attachments": {},
   "cell_type": "markdown",
   "metadata": {},
   "source": [
    "Now we'll observe the behaviour of the $\\mathbf{Z}\\mathbf{Z}\\mathbb{I}$ stabiliser element with errors on the circuit."
   ]
  },
  {
   "cell_type": "code",
   "execution_count": 3,
   "metadata": {},
   "outputs": [
    {
     "name": "stdout",
     "output_type": "stream",
     "text": [
      "Measured result for the ZZI circuit with error on qbit 0 : 1\n"
     ]
    },
    {
     "data": {
      "text/html": [
       "<pre style=\"word-wrap: normal;white-space: pre;background: #fff0;line-height: 1.1;font-family: &quot;Courier New&quot;,Courier,monospace\">      ┌───┐             \n",
       "q3_0: ┤ X ├──■──────────\n",
       "      └───┘  │          \n",
       "q3_1: ───────┼────■─────\n",
       "           ┌─┴─┐┌─┴─┐┌─┐\n",
       "q3_2: ─────┤ X ├┤ X ├┤M├\n",
       "           └───┘└───┘└╥┘\n",
       "c1: 1/════════════════╩═\n",
       "                      0 </pre>"
      ],
      "text/plain": [
       "      ┌───┐             \n",
       "q3_0: ┤ X ├──■──────────\n",
       "      └───┘  │          \n",
       "q3_1: ───────┼────■─────\n",
       "           ┌─┴─┐┌─┴─┐┌─┐\n",
       "q3_2: ─────┤ X ├┤ X ├┤M├\n",
       "           └───┘└───┘└╥┘\n",
       "c1: 1/════════════════╩═\n",
       "                      0 "
      ]
     },
     "execution_count": 3,
     "metadata": {},
     "output_type": "execute_result"
    }
   ],
   "source": [
    "# ZZI on a circuit with error on qbit at index 0\n",
    "c1_error_idx = 0\n",
    "c1 = QuantumCircuit(QuantumRegister(3), ClassicalRegister(1))\n",
    "c1.x(c1_error_idx)\n",
    "c1.cx(0,2)\n",
    "c1.cx(1,2)\n",
    "c1.measure(2,0)\n",
    "c1_counts = simulate_measurements(c1)\n",
    "c1_result = most_common_output(c1_counts)\n",
    "print(f\"Measured result for the ZZI circuit with error on qbit {c1_error_idx} : {c1_result}\")\n",
    "c1.draw('text')\n"
   ]
  },
  {
   "cell_type": "code",
   "execution_count": 4,
   "metadata": {},
   "outputs": [
    {
     "name": "stdout",
     "output_type": "stream",
     "text": [
      "Measured result for the ZZI circuit with error on qbit1 : 1\n"
     ]
    },
    {
     "data": {
      "text/html": [
       "<pre style=\"word-wrap: normal;white-space: pre;background: #fff0;line-height: 1.1;font-family: &quot;Courier New&quot;,Courier,monospace\">                        \n",
       "q7_0: ───────■──────────\n",
       "      ┌───┐  │          \n",
       "q7_1: ┤ X ├──┼────■─────\n",
       "      └───┘┌─┴─┐┌─┴─┐┌─┐\n",
       "q7_2: ─────┤ X ├┤ X ├┤M├\n",
       "           └───┘└───┘└╥┘\n",
       "c2: 1/════════════════╩═\n",
       "                      0 </pre>"
      ],
      "text/plain": [
       "                        \n",
       "q7_0: ───────■──────────\n",
       "      ┌───┐  │          \n",
       "q7_1: ┤ X ├──┼────■─────\n",
       "      └───┘┌─┴─┐┌─┴─┐┌─┐\n",
       "q7_2: ─────┤ X ├┤ X ├┤M├\n",
       "           └───┘└───┘└╥┘\n",
       "c2: 1/════════════════╩═\n",
       "                      0 "
      ]
     },
     "execution_count": 4,
     "metadata": {},
     "output_type": "execute_result"
    }
   ],
   "source": [
    "# ZZI on a circuit with error on qbit at index 1\n",
    "c2_error_idx = 1\n",
    "c2 = QuantumCircuit(QuantumRegister(3), ClassicalRegister(1))\n",
    "c2.x(c2_error_idx)\n",
    "c2.cx(0,2)\n",
    "c2.cx(1,2)\n",
    "c2.measure(2,0)\n",
    "c2_counts = simulate_measurements(c2)\n",
    "c2_result = most_common_output(c2_counts)\n",
    "print(f\"Measured result for the ZZI circuit with error on qbit{c2_error_idx} : {c2_result}\")\n",
    "c2.draw('text')\n"
   ]
  },
  {
   "cell_type": "code",
   "execution_count": 5,
   "metadata": {},
   "outputs": [
    {
     "name": "stdout",
     "output_type": "stream",
     "text": [
      "Measured result for the ZZI circuit with error on 2 : 1\n"
     ]
    },
    {
     "data": {
      "text/html": [
       "<pre style=\"word-wrap: normal;white-space: pre;background: #fff0;line-height: 1.1;font-family: &quot;Courier New&quot;,Courier,monospace\">                         \n",
       "q11_0: ───────■──────────\n",
       "              │          \n",
       "q11_1: ───────┼────■─────\n",
       "       ┌───┐┌─┴─┐┌─┴─┐┌─┐\n",
       "q11_2: ┤ X ├┤ X ├┤ X ├┤M├\n",
       "       └───┘└───┘└───┘└╥┘\n",
       " c3: 1/════════════════╩═\n",
       "                       0 </pre>"
      ],
      "text/plain": [
       "                         \n",
       "q11_0: ───────■──────────\n",
       "              │          \n",
       "q11_1: ───────┼────■─────\n",
       "       ┌───┐┌─┴─┐┌─┴─┐┌─┐\n",
       "q11_2: ┤ X ├┤ X ├┤ X ├┤M├\n",
       "       └───┘└───┘└───┘└╥┘\n",
       " c3: 1/════════════════╩═\n",
       "                       0 "
      ]
     },
     "execution_count": 5,
     "metadata": {},
     "output_type": "execute_result"
    }
   ],
   "source": [
    "# ZZI on a circuit with error on qbit at index 2\n",
    "c2_error_idx = 2\n",
    "c2 = QuantumCircuit(QuantumRegister(3), ClassicalRegister(1))\n",
    "c2.x(c2_error_idx)\n",
    "c2.cx(0,2)\n",
    "c2.cx(1,2)\n",
    "c2.measure(2,0)\n",
    "c2_counts = simulate_measurements(c2)\n",
    "c2_result = most_common_output(c2_counts)\n",
    "print(f\"Measured result for the ZZI circuit with error on {c2_error_idx} : {c2_result}\")\n",
    "c2.draw('text')\n"
   ]
  },
  {
   "attachments": {},
   "cell_type": "markdown",
   "metadata": {},
   "source": [
    "## Formally\n",
    "\n",
    "Remember we mentioned at the beginning of this chapter that stabilizers were a *collection* of operators? Well, that's not untrue, but there's more to it than being a mere collection. Stabilizers are an ***Abelian group***.\n",
    "\n",
    "### What is an ***Abelian group***?\n",
    "#### Axioms of a ***group***\n",
    "Let $|$ stand for *such that*. A group is a ***set*** $\\mathcal{A}$ with a binary operation $\\star$ which satisfies the following conditions:\n",
    "- $\\forall a_i, a_j, a_k \\in \\mathcal{A}, a_i \\star (a_j \\star a_k) = (a_i \\star a_j) \\star a_k$ (***associativity***).\n",
    "- $\\exists \\: \\mathbb{I} \\in \\mathcal{A} \\: |\\:  a \\star \\mathbb{I} = a \\: \\forall a \\in \\mathcal{A}$ (***identity***).\n",
    "- $\\forall a \\in \\mathcal{A}, \\exists \\: b \\: | \\: a \\star b = \\mathbb{I}$ (***inverse***).\n",
    "#### Extra axiom for an ***Abelian*** group\n",
    "- $\\forall a_i, a_j \\in \\mathcal{A}, a_i \\star a_j = a_j \\star a_i$ (***commutativity***)."
   ]
  },
  {
   "cell_type": "markdown",
   "metadata": {},
   "source": []
  },
  {
   "cell_type": "code",
   "execution_count": 6,
   "metadata": {},
   "outputs": [
    {
     "name": "stdout",
     "output_type": "stream",
     "text": [
      "Operator([[ 0.707+0.j,  0.707-0.j,  0.   +0.j,  0.   +0.j],\n",
      "          [ 0.   +0.j,  0.   +0.j,  0.707+0.j, -0.707+0.j],\n",
      "          [ 0.   +0.j,  0.   +0.j,  0.707+0.j,  0.707-0.j],\n",
      "          [ 0.707+0.j, -0.707+0.j,  0.   +0.j,  0.   +0.j]],\n",
      "         input_dims=(2, 2), output_dims=(2, 2))\n",
      "[-0.99984899+0.0000000e+00j  0.707     +7.0700000e-01j\n",
      "  0.707     -7.0700000e-01j  0.99984899+2.6332882e-25j]\n"
     ]
    }
   ],
   "source": [
    "# OBTAINING THE EIGENVALUES FROM A QUANTUM CIRCUIT\n",
    "\n",
    "# 1) TURN THE CIRCUIT INTO A UNITARY MATRIX\n",
    "from qiskit import QuantumRegister, ClassicalRegister\n",
    "from qiskit import QuantumCircuit, execute\n",
    "from qiskit import Aer\n",
    "import numpy as np\n",
    "\n",
    "backend = Aer.get_backend('unitary_simulator')\n",
    "\n",
    "q = QuantumRegister(2,'q')\n",
    "c = ClassicalRegister(2,'c')\n",
    "\n",
    "circuit = QuantumCircuit(q,c)\n",
    "\n",
    "circuit.h(q[0])\n",
    "circuit.cx(q[0],q[1])\n",
    "\n",
    "job = execute(circuit, backend, shots=8192)\n",
    "result = job.result()\n",
    "\n",
    "unitary_mat = result.get_unitary(circuit,decimals=3)\n",
    "eigvals = np.linalg.eig(unitary_mat)\n",
    "print(unitary_mat)\n",
    "print(eigvals[0])"
   ]
  },
  {
   "cell_type": "code",
   "execution_count": 7,
   "metadata": {},
   "outputs": [
    {
     "name": "stdout",
     "output_type": "stream",
     "text": [
      "[ 1. -1.]\n"
     ]
    }
   ],
   "source": [
    "pauli_x = np.array([\n",
    "    [0,1],\n",
    "    [1,0]\n",
    "])\n",
    "ev = np.linalg.eig(pauli_x)\n",
    "print(ev[0])"
   ]
  },
  {
   "cell_type": "code",
   "execution_count": 8,
   "metadata": {},
   "outputs": [
    {
     "name": "stdout",
     "output_type": "stream",
     "text": [
      "error-free circuit: \n",
      "[ 1.+0.j -1.+0.j  1.+0.j -1.+0.j  1.+0.j  1.+0.j  1.+0.j  1.+0.j]\n",
      "\n",
      "With-error circuit: \n",
      "[ 1.+0.j -1.+0.j  1.+0.j -1.+0.j  1.+0.j  1.+0.j  1.+0.j  1.+0.j]\n",
      "\n"
     ]
    },
    {
     "data": {
      "text/html": [
       "<pre style=\"word-wrap: normal;white-space: pre;background: #fff0;line-height: 1.1;font-family: &quot;Courier New&quot;,Courier,monospace\">                      \n",
       "q19_0: ──■────────────\n",
       "         │            \n",
       "q19_1: ──┼─────────■──\n",
       "       ┌─┴─┐┌───┐┌─┴─┐\n",
       "q19_2: ┤ X ├┤ X ├┤ X ├\n",
       "       └───┘└───┘└───┘\n",
       " c5: 1/═══════════════\n",
       "                      </pre>"
      ],
      "text/plain": [
       "                      \n",
       "q19_0: ──■────────────\n",
       "         │            \n",
       "q19_1: ──┼─────────■──\n",
       "       ┌─┴─┐┌───┐┌─┴─┐\n",
       "q19_2: ┤ X ├┤ X ├┤ X ├\n",
       "       └───┘└───┘└───┘\n",
       " c5: 1/═══════════════\n",
       "                      "
      ]
     },
     "execution_count": 8,
     "metadata": {},
     "output_type": "execute_result"
    }
   ],
   "source": [
    "def unitary_simulation(circuit:QuantumCircuit, nb_shots:int=8192) -> dict:\n",
    "    \"\"\"Simulates measurement results.\"\"\"\n",
    "    backend = Aer.get_backend('unitary_simulator')\n",
    "    job = execute(circuit, backend, shots=nb_shots)\n",
    "    result = job.result()\n",
    "    unitary_mat = result.get_unitary(circuit,3)\n",
    "    return unitary_mat\n",
    "\n",
    "# ZZI on an error-free circuit\n",
    "c0 = QuantumCircuit(QuantumRegister(3), ClassicalRegister(1))\n",
    "c0.cx(0,2)\n",
    "c0.cx(1,2)\n",
    "c0_unitary = unitary_simulation(c0)\n",
    "# print(c0_unitary)\n",
    "c0_ev = np.linalg.eig(c0_unitary)\n",
    "print(\"error-free circuit: \")\n",
    "print(c0_ev[0])\n",
    "print(\"\")\n",
    "\n",
    "c0 = QuantumCircuit(QuantumRegister(3), ClassicalRegister(1))\n",
    "\n",
    "c0.cx(0,2)\n",
    "c0.x(2)\n",
    "c0.cx(1,2)\n",
    "c0_unitary = unitary_simulation(c0)\n",
    "# print(c0_unitary)\n",
    "c0_ev = np.linalg.eig(c0_unitary)\n",
    "print(\"With-error circuit: \")\n",
    "print(c0_ev[0])\n",
    "print(\"\")\n",
    "\n",
    "c0.draw(\"text\")"
   ]
  },
  {
   "cell_type": "code",
   "execution_count": null,
   "metadata": {},
   "outputs": [],
   "source": []
  }
 ],
 "metadata": {
  "kernelspec": {
   "display_name": "Python 3",
   "language": "python",
   "name": "python3"
  },
  "language_info": {
   "codemirror_mode": {
    "name": "ipython",
    "version": 3
   },
   "file_extension": ".py",
   "mimetype": "text/x-python",
   "name": "python",
   "nbconvert_exporter": "python",
   "pygments_lexer": "ipython3",
   "version": "3.9.17"
  },
  "orig_nbformat": 4
 },
 "nbformat": 4,
 "nbformat_minor": 2
}
