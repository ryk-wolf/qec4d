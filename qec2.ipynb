{
 "cells": [
  {
   "attachments": {},
   "cell_type": "markdown",
   "metadata": {},
   "source": [
    "# Quantum Error Correction for Dummies (QEC4D)\n",
    "# Chapter II - The 3-qbit phase-flip repetition code\n",
    "\n",
    "In this chapter, we look at how to modify the bit-flip repetition code seen in chapter I to tackle phase-flip errors.\n",
    "\n",
    "## 1) Overview\n",
    "The principle is the same as for the X repetition code but this time the second assumption changes to tackle only phase-flip errors instead of the bit-flip ones we previously saw:\n",
    "- Only a single error can occur in each code word.\n",
    "- The error type can only be an ***Z-error aka a phase-flip*** (no X-errors).\n",
    "\n",
    "The goals remain the same.\n",
    "1. Identify whether an error has occurred (or not, we could get lucky).\n",
    "2. If an error occurred, identify which physical qbit was affected (this is done by studying the ***error syndrome***, more on this later).\n",
    "3. If an error occurred, correct it."
   ]
  },
  {
   "cell_type": "code",
   "execution_count": 9,
   "metadata": {},
   "outputs": [],
   "source": [
    "# First, a few imports\n",
    "from copy import deepcopy\n",
    "from numpy.random import rand, seed\n",
    "from qiskit import *\n",
    "from qiskit import Aer\n",
    "from typing import Tuple"
   ]
  },
  {
   "attachments": {},
   "cell_type": "markdown",
   "metadata": {},
   "source": [
    "## 2) Building our circuit\n",
    "\n",
    "### 2-A) Similarities with the X-error repetition code\n",
    "The encoding step is the same as for the XRC."
   ]
  },
  {
   "cell_type": "code",
   "execution_count": 3,
   "metadata": {},
   "outputs": [],
   "source": [
    "def encode_1_into_3(circuit:QuantumCircuit) -> QuantumCircuit:\n",
    "    \"\"\"Encode 1 logical qbit (at index 0) into 3 physical qubits.\"\"\"\n",
    "    circuit.cnot(0,1)\n",
    "    circuit.cnot(0,2)\n",
    "    return circuit"
   ]
  },
  {
   "attachments": {},
   "cell_type": "markdown",
   "metadata": {},
   "source": [
    "So are the simulation step and the counting of the most frequent occurrence."
   ]
  },
  {
   "cell_type": "code",
   "execution_count": 7,
   "metadata": {},
   "outputs": [],
   "source": [
    "def simulate_measurements(circuit:QuantumCircuit, nb_shots:int=1024) -> dict:\n",
    "    \"\"\"Simulates measurement results.\"\"\"\n",
    "    backend_sim = Aer.get_backend('qasm_simulator')\n",
    "    job_sim = backend_sim.run(transpile(circuit, backend_sim), shots=nb_shots)\n",
    "    result_sim = job_sim.result()\n",
    "    counts = result_sim.get_counts(circuit)\n",
    "    return counts\n",
    "\n",
    "def most_common_output(counts:dict) -> str:\n",
    "    \"\"\" Provides the (q/c)-bit 0>n encoding of the most measured output.\"\"\"\n",
    "    return max(counts, key=counts.get)[::-1]"
   ]
  },
  {
   "attachments": {},
   "cell_type": "markdown",
   "metadata": {},
   "source": [
    "### 2-B) Differences with the X-error repetition code"
   ]
  },
  {
   "cell_type": "code",
   "execution_count": 5,
   "metadata": {},
   "outputs": [],
   "source": [
    "def hadamard_wall(circuit:QuantumCircuit, start_qb_idx:int, stop_qb_idx:int) -> QuantumCircuit:\n",
    "    c = deepcopy(circuit)\n",
    "    for i in range(start_qb_idx, stop_qb_idx):\n",
    "        c.h(i)\n",
    "    return c\n",
    "\n",
    "def toffoli_Z_repetition_code(logical_qb_val:int=0, with_error:bool=False, qb_idx:int=-1) -> QuantumCircuit:\n",
    "    # Encode the logical qubit information into three physical qubits\n",
    "    qr1 = QuantumRegister(3)\n",
    "    circuit = QuantumCircuit(qr1)\n",
    "\n",
    "    if logical_qb_val == 1:\n",
    "        circuit.x(0)\n",
    "        circuit.barrier(qr1) #for visualisation only\n",
    "\n",
    "    circuit = encode_1_into_3(circuit)\n",
    "    circuit.barrier(qr1) #for visualisation only\n",
    "\n",
    "    # Hadamard transformation applied to every qbit\n",
    "    circuit = hadamard_wall(circuit=circuit, start_qb_idx=0, stop_qb_idx=3)\n",
    "    circuit.barrier(qr1) #for visualisation only\n",
    "\n",
    "    # If there is an error, introduce it here on deisred qbit\n",
    "    if with_error:\n",
    "        circuit.z(qb_idx)\n",
    "        circuit.barrier(qr1) #for visualisation only\n",
    "\n",
    "    # Hadamard transformation applied to every qbit\n",
    "    circuit = hadamard_wall(circuit=circuit, start_qb_idx=0, stop_qb_idx=3)\n",
    "    circuit.barrier(qr1) #for visualisation only\n",
    "\n",
    "    # This step is necessary for the Toffoli-based RC and replaces MBQEC's parity check\n",
    "    circuit.cnot(0,1)\n",
    "    circuit.cnot(0,2)\n",
    "    circuit.barrier(qr1) #for visualisation only\n",
    "   \n",
    "    # Add a Toffoli gate to correct potential errors\n",
    "    circuit.ccx(2,1,0) # the Toffoli gate is also called CCNOT or CCX, they're all one and the same\n",
    "\n",
    "    return circuit\n",
    "\n",
    "\n",
    "def measure_toffoli_RC_circuit(circuit:QuantumCircuit, nb_shots:int=1024) -> Tuple[QuantumCircuit, dict]:\n",
    "    c = deepcopy(circuit)\n",
    "    \n",
    "    cr = ClassicalRegister(1) # need one classical register to receive the measurement outcomes\n",
    "    c.add_register(cr)\n",
    "    \n",
    "    c.measure(0,0)\n",
    "\n",
    "    counts = simulate_measurements(c, nb_shots)\n",
    "\n",
    "    return c, counts\n"
   ]
  },
  {
   "cell_type": "code",
   "execution_count": 6,
   "metadata": {},
   "outputs": [
    {
     "data": {
      "text/html": [
       "<pre style=\"word-wrap: normal;white-space: pre;background: #fff0;line-height: 1.1;font-family: &quot;Courier New&quot;,Courier,monospace\">                 ░ ┌───┐ ░ ┌───┐ ░            ░ ┌───┐\n",
       "q1_0: ──■────■───░─┤ H ├─░─┤ H ├─░───■────■───░─┤ X ├\n",
       "      ┌─┴─┐  │   ░ ├───┤ ░ ├───┤ ░ ┌─┴─┐  │   ░ └─┬─┘\n",
       "q1_1: ┤ X ├──┼───░─┤ H ├─░─┤ H ├─░─┤ X ├──┼───░───■──\n",
       "      └───┘┌─┴─┐ ░ ├───┤ ░ ├───┤ ░ └───┘┌─┴─┐ ░   │  \n",
       "q1_2: ─────┤ X ├─░─┤ H ├─░─┤ H ├─░──────┤ X ├─░───■──\n",
       "           └───┘ ░ └───┘ ░ └───┘ ░      └───┘ ░      </pre>"
      ],
      "text/plain": [
       "                 ░ ┌───┐ ░ ┌───┐ ░            ░ ┌───┐\n",
       "q1_0: ──■────■───░─┤ H ├─░─┤ H ├─░───■────■───░─┤ X ├\n",
       "      ┌─┴─┐  │   ░ ├───┤ ░ ├───┤ ░ ┌─┴─┐  │   ░ └─┬─┘\n",
       "q1_1: ┤ X ├──┼───░─┤ H ├─░─┤ H ├─░─┤ X ├──┼───░───■──\n",
       "      └───┘┌─┴─┐ ░ ├───┤ ░ ├───┤ ░ └───┘┌─┴─┐ ░   │  \n",
       "q1_2: ─────┤ X ├─░─┤ H ├─░─┤ H ├─░──────┤ X ├─░───■──\n",
       "           └───┘ ░ └───┘ ░ └───┘ ░      └───┘ ░      "
      ]
     },
     "execution_count": 6,
     "metadata": {},
     "output_type": "execute_result"
    }
   ],
   "source": [
    "c = toffoli_Z_repetition_code(logical_qb_val=0)\n",
    "c.draw('text')"
   ]
  },
  {
   "cell_type": "code",
   "execution_count": 8,
   "metadata": {},
   "outputs": [
    {
     "name": "stdout",
     "output_type": "stream",
     "text": [
      "For a bitflip error on qbit index 0 on a circuit encoding 0 the corrected circuit yielded 0\n",
      "For a bitflip error on qbit index 1 on a circuit encoding 0 the corrected circuit yielded 0\n",
      "For a bitflip error on qbit index 2 on a circuit encoding 0 the corrected circuit yielded 0\n",
      "For a bitflip error on qbit index 0 on a circuit encoding 1 the corrected circuit yielded 1\n",
      "For a bitflip error on qbit index 1 on a circuit encoding 1 the corrected circuit yielded 1\n",
      "For a bitflip error on qbit index 2 on a circuit encoding 1 the corrected circuit yielded 1\n"
     ]
    },
    {
     "data": {
      "text/html": [
       "<pre style=\"word-wrap: normal;white-space: pre;background: #fff0;line-height: 1.1;font-family: &quot;Courier New&quot;,Courier,monospace\">       ┌───┐ ░            ░ ┌───┐ ░       ░ ┌───┐ ░            ░ ┌───┐┌─┐\n",
       "q39_0: ┤ X ├─░───■────■───░─┤ H ├─░───────░─┤ H ├─░───■────■───░─┤ X ├┤M├\n",
       "       └───┘ ░ ┌─┴─┐  │   ░ ├───┤ ░       ░ ├───┤ ░ ┌─┴─┐  │   ░ └─┬─┘└╥┘\n",
       "q39_1: ──────░─┤ X ├──┼───░─┤ H ├─░───────░─┤ H ├─░─┤ X ├──┼───░───■───╫─\n",
       "             ░ └───┘┌─┴─┐ ░ ├───┤ ░ ┌───┐ ░ ├───┤ ░ └───┘┌─┴─┐ ░   │   ║ \n",
       "q39_2: ──────░──────┤ X ├─░─┤ H ├─░─┤ Z ├─░─┤ H ├─░──────┤ X ├─░───■───╫─\n",
       "             ░      └───┘ ░ └───┘ ░ └───┘ ░ └───┘ ░      └───┘ ░       ║ \n",
       " c5: 1/════════════════════════════════════════════════════════════════╩═\n",
       "                                                                       0 </pre>"
      ],
      "text/plain": [
       "       ┌───┐ ░            ░ ┌───┐ ░       ░ ┌───┐ ░            ░ ┌───┐┌─┐\n",
       "q39_0: ┤ X ├─░───■────■───░─┤ H ├─░───────░─┤ H ├─░───■────■───░─┤ X ├┤M├\n",
       "       └───┘ ░ ┌─┴─┐  │   ░ ├───┤ ░       ░ ├───┤ ░ ┌─┴─┐  │   ░ └─┬─┘└╥┘\n",
       "q39_1: ──────░─┤ X ├──┼───░─┤ H ├─░───────░─┤ H ├─░─┤ X ├──┼───░───■───╫─\n",
       "             ░ └───┘┌─┴─┐ ░ ├───┤ ░ ┌───┐ ░ ├───┤ ░ └───┘┌─┴─┐ ░   │   ║ \n",
       "q39_2: ──────░──────┤ X ├─░─┤ H ├─░─┤ Z ├─░─┤ H ├─░──────┤ X ├─░───■───╫─\n",
       "             ░      └───┘ ░ └───┘ ░ └───┘ ░ └───┘ ░      └───┘ ░       ║ \n",
       " c5: 1/════════════════════════════════════════════════════════════════╩═\n",
       "                                                                       0 "
      ]
     },
     "execution_count": 8,
     "metadata": {},
     "output_type": "execute_result"
    }
   ],
   "source": [
    "values_of_logical_qb = [0,1]\n",
    "idx_of_error = [0,1,2]\n",
    "\n",
    "example_circ = None\n",
    "for log_val in values_of_logical_qb:\n",
    "    for e_idx in idx_of_error:\n",
    "        circuit = toffoli_Z_repetition_code(logical_qb_val=log_val, with_error=True, qb_idx=e_idx)\n",
    "        circuit, measurement_res = measure_toffoli_RC_circuit(circuit)\n",
    "        res = most_common_output(measurement_res)\n",
    "        print(f\"For a phase-flip error on qbit index {e_idx} on a circuit encoding {log_val} the corrected circuit yielded {res}\")\n",
    "        example_circ = circuit\n",
    "\n",
    "example_circ.draw('text')"
   ]
  },
  {
   "attachments": {},
   "cell_type": "markdown",
   "metadata": {},
   "source": [
    "### 2-C) Why it works\n",
    "So it works. That's undeniable. But how? We barely changed a thing from the XRC, intuitively one might expect to design a wholly new different code from scratch and apply it, but that's simply not the case.\n",
    "\n",
    "To understand why this work we need to look more closely at what X and Z errors actually are.\n",
    "\n",
    "#### 2-C-I) Pauli X and Z\n",
    "Fundamentally, what we call a bit-flip error or X-error is simply the application of a Pauli X matrix to the state of the system. Ie:\n",
    "- $\\mathbf{X}\\ket{0} \\mapsto \\ket{1}$\n",
    "- $\\mathbf{X}\\ket{1} \\mapsto \\ket{0}$\n",
    "- $\\mathbf{X}\\ket{+} \\mapsto \\ket{+}$ behaves like $\\mathbb{I}$\n",
    "- $\\mathbf{X}\\ket{-} \\mapsto \\ket{-}$ behaves like $\\mathbb{I}$\n",
    "\n",
    "And as for the phase-flip or Z-error, it again is simply the application of a Pauli Z matrix:\n",
    "- $\\mathbf{Z}\\ket{0} \\mapsto \\ket{0}$ behaves like $\\mathbb{I}$\n",
    "- $\\mathbf{Z}\\ket{1} \\mapsto -\\ket{1}$ flips the sign but otherwise behaves like $\\mathbb{I}$\n",
    "- $\\mathbf{Z}\\ket{+} \\mapsto \\ket{-}$\n",
    "- $\\mathbf{Z}\\ket{-} \\mapsto \\ket{+}$\n",
    "\n",
    "If we agree for a moment to disregard the change of sign in $\\mathbf{Z}\\ket{1}$, what we have is schematically:\n",
    "- $\\mathbf{X}$ flips $\\ket{0}, \\ket{1}$ to their opposite and acts as $\\mathbb{I}$ on $\\ket{+}, \\ket{-}$.\n",
    "- $\\mathbf{Z}$ flips $\\ket{+}, \\ket{-}$ to their opposite and acts as $\\mathbb{I}$ on $\\ket{1}, \\ket{0}$.\n",
    "Pauli $\\mathbf{X}$ and $\\mathbf{Z}$ are basically the same operator but in a different basis. They do the *same* thing.\n",
    "\n",
    "To convince ourselves of this identity, let's run a few example circuits and compare their results."
   ]
  },
  {
   "cell_type": "code",
   "execution_count": 12,
   "metadata": {},
   "outputs": [
    {
     "name": "stdout",
     "output_type": "stream",
     "text": [
      "X|0> = 1\n",
      "HZH|0> = 1\n"
     ]
    }
   ],
   "source": [
    "c1 = QuantumCircuit(QuantumRegister(1), ClassicalRegister(1))\n",
    "c2 = deepcopy(c1)\n",
    "\n",
    "c1.x(0) # apply a bit-flip on qbit 0\n",
    "c1.measure(0,0)\n",
    "cpt1 = simulate_measurements(c1, 1024)\n",
    "most_freq_1 = most_common_output(cpt1)\n",
    "\n",
    "c2.h(0) # apply a Hadamard\n",
    "c2.z(0) # then a phase-flip\n",
    "c2.h(0) # then another Hadamard, all to qbit 0\n",
    "c2.measure(0,0)\n",
    "cpt_2 = simulate_measurements(c2, 1024)\n",
    "most_freq_2 = most_common_output(cpt_2)\n",
    "\n",
    "print(f\"X|0> = {most_freq_1}\")\n",
    "print(f\"HZH|0> = {most_freq_2}\")"
   ]
  },
  {
   "attachments": {},
   "cell_type": "markdown",
   "metadata": {},
   "source": [
    "#### 2-C-II) X and Z basis and measurements\n",
    "\n",
    "When we talk about $\\ket{0}, \\ket{1}$ we are referring to quantum states represented in the Z-basis.\n",
    "Now when we talk about $\\ket{+}, \\ket{-}$, we are referring to quantum states represented in the X-basis.\n",
    "\n",
    "Let's remember that not only can we write $\\ket{+} = \\frac{\\ket{0} + \\ket{1}}{\\sqrt{2}}$ and $\\ket{-} = \\frac{\\ket{0} - \\ket{1}}{\\sqrt{2}}$ but we also have $\\ket{0} = \\frac{\\ket{+} + \\ket{-}}{\\sqrt{2}}$ and $\\ket{1} = \\frac{\\ket{+} - \\ket{-}}{\\sqrt{2}}$.\n",
    "\n",
    "And changing between both is done simply by applying a Hadamard gate $\\mathbf{H}$ such that:\n",
    "- $\\mathbf{H}\\ket{0} \\mapsto \\ket{+}$\n",
    "- $\\mathbf{H}\\ket{1} \\mapsto \\ket{-}$\n",
    "- $\\mathbf{H}\\ket{+} \\mapsto \\ket{0}$\n",
    "- $\\mathbf{H}\\ket{-} \\mapsto \\ket{1}$\n",
    "\n",
    "#### 2-C-III) Circling back\n",
    "Now why did we discuss all this in the first place? To understand why the circuit to correct phase-flips was almost the same as the one to correct bit-flips with only a bunch of $\\mathbf{H}$ gates in the middle.\n",
    "This is ultimately because, as we've shown empirically earlier, $\\mathbf{H}\\mathbf{Z}\\mathbf{H} = \\mathbf{X}$.\n",
    "\n",
    "So in the case where we *know* we're interested in phase-flips (rather than bit-flips), the logic goes as follows:\n",
    "- We start off in the computational (Z) basis with qbits in $\\ket{0}, \\ket{1}$ states.\n",
    "- We first apply $\\mathbf{H}$ to change into the X basis. Now our qbits are in $\\ket{+}, \\ket{-}$ states.\n",
    "- We let phase-flip error happen, this will turn a $\\ket{+}$ into a $\\ket{-}$ and vice-versa.\n",
    "- We apply another  $\\mathbf{H}$ to change back to the Z basis and get back $\\ket{0}, \\ket{1}$ states, here any $\\ket{+}$ is mapped to a $\\ket{0}$ and any $\\ket{-}$ to a $\\ket{1}$ so the former phase-flip errors are transformed into bit-flip ones.\n",
    "- We correct for the bit-flip errors using the familiar XRC.\n",
    "\n",
    "##### Why isn't it th other way around?\n",
    "Aha, excellent question! Why don't we construct a circuit to correct for phase-flip errors in the X-basis first and then manipulate it with $\\mathbf{H}$ to shift to the bit-flip error handling in Z-basis?\n",
    "Two reasons for this. The first boring one is that by convention, most circuits (and libraries representing them) assume that things starts off in the Z basis. We can always change to the X basis but that requires applying $\\mathbf{H}$-transforms on every qbit.\n"
   ]
  },
  {
   "cell_type": "code",
   "execution_count": null,
   "metadata": {},
   "outputs": [],
   "source": []
  },
  {
   "attachments": {},
   "cell_type": "markdown",
   "metadata": {},
   "source": [
    "Try to be comfortable with these properties of Pauli X and Z and X and Z basis as they are key features in QEC that will keep showing up."
   ]
  },
  {
   "cell_type": "markdown",
   "metadata": {},
   "source": []
  }
 ],
 "metadata": {
  "kernelspec": {
   "display_name": "Python 3",
   "language": "python",
   "name": "python3"
  },
  "language_info": {
   "codemirror_mode": {
    "name": "ipython",
    "version": 3
   },
   "file_extension": ".py",
   "mimetype": "text/x-python",
   "name": "python",
   "nbconvert_exporter": "python",
   "pygments_lexer": "ipython3",
   "version": "3.9.17"
  },
  "orig_nbformat": 4
 },
 "nbformat": 4,
 "nbformat_minor": 2
}
