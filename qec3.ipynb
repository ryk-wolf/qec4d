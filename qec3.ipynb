{
 "cells": [
  {
   "attachments": {},
   "cell_type": "markdown",
   "metadata": {},
   "source": [
    "# Quantum Error Correction for Dummies (QEC4D)\n",
    "# Chapter III - Shor's repetition code\n",
    "\n",
    "So far we've seen how to correct for X errors and how to correct for Z errors separately. However in quantum computation, both types of error happen in the same circuit, we therefore need a code capable of correcting for **both** X **and** Z erros at the same time. This is precisely what ***Shor's repetition code*** -aka the 9 qbit repetition code- does. Note that Shor's code is the ***first quantum error-correcting code***.\n",
    "\n",
    "## 0) Overview\n",
    "Shor's code can:\n",
    "- Encode one logical qbit into 9 physical ones.\n",
    "- Correct an error on a single qbit.\n",
    "- Correct either an X or a Z error -or both- on the single qbit of interest."
   ]
  },
  {
   "cell_type": "code",
   "execution_count": 1,
   "metadata": {},
   "outputs": [],
   "source": [
    "# First, a few imports\n",
    "import numpy as np\n",
    "from copy import deepcopy\n",
    "from numpy.random import rand, seed\n",
    "from qiskit import *\n",
    "from qiskit import Aer\n",
    "from typing import List, Optional, Tuple"
   ]
  },
  {
   "attachments": {},
   "cell_type": "markdown",
   "metadata": {},
   "source": [
    "## 2) Building our circuit\n",
    "\n",
    "### 2-A) Encoding"
   ]
  },
  {
   "cell_type": "code",
   "execution_count": 2,
   "metadata": {},
   "outputs": [],
   "source": [
    "def parity_check(ctrl_qb_idx:int, target_qbs_idxs:List[int], c:QuantumCircuit) -> QuantumCircuit:\n",
    "    circuit = deepcopy(c)\n",
    "    for target_idx in target_qbs_idxs:\n",
    "        circuit.cnot(ctrl_qb_idx, target_idx)\n",
    "    return circuit"
   ]
  },
  {
   "attachments": {},
   "cell_type": "markdown",
   "metadata": {},
   "source": [
    "First, we reproduce the 3-qbit repetition code for phase flip on qbits 0, 3, 6. This is exactly the same structure as we had previously on a 3-qbit circuit, only more spread-out."
   ]
  },
  {
   "cell_type": "code",
   "execution_count": 3,
   "metadata": {},
   "outputs": [
    {
     "data": {
      "text/html": [
       "<pre style=\"word-wrap: normal;white-space: pre;background: #fff0;line-height: 1.1;font-family: &quot;Courier New&quot;,Courier,monospace\">                \n",
       "q0_0: ──■────■──\n",
       "        │    │  \n",
       "q0_1: ──┼────┼──\n",
       "        │    │  \n",
       "q0_2: ──┼────┼──\n",
       "      ┌─┴─┐  │  \n",
       "q0_3: ┤ X ├──┼──\n",
       "      └───┘  │  \n",
       "q0_4: ───────┼──\n",
       "             │  \n",
       "q0_5: ───────┼──\n",
       "           ┌─┴─┐\n",
       "q0_6: ─────┤ X ├\n",
       "           └───┘\n",
       "q0_7: ──────────\n",
       "                \n",
       "q0_8: ──────────\n",
       "                </pre>"
      ],
      "text/plain": [
       "                \n",
       "q0_0: ──■────■──\n",
       "        │    │  \n",
       "q0_1: ──┼────┼──\n",
       "        │    │  \n",
       "q0_2: ──┼────┼──\n",
       "      ┌─┴─┐  │  \n",
       "q0_3: ┤ X ├──┼──\n",
       "      └───┘  │  \n",
       "q0_4: ───────┼──\n",
       "             │  \n",
       "q0_5: ───────┼──\n",
       "           ┌─┴─┐\n",
       "q0_6: ─────┤ X ├\n",
       "           └───┘\n",
       "q0_7: ──────────\n",
       "                \n",
       "q0_8: ──────────\n",
       "                "
      ]
     },
     "execution_count": 3,
     "metadata": {},
     "output_type": "execute_result"
    }
   ],
   "source": [
    "c = QuantumCircuit(QuantumRegister(9))\n",
    "c = parity_check(0, [3,6], c)\n",
    "c.draw('text')"
   ]
  },
  {
   "attachments": {},
   "cell_type": "markdown",
   "metadata": {},
   "source": [
    "Now these 3 qbits will be the ones correcting for the phase-flip, so we want to apply a Hadamard transform to them to change from the Z basis to the X basis."
   ]
  },
  {
   "cell_type": "code",
   "execution_count": 4,
   "metadata": {},
   "outputs": [],
   "source": [
    "def hadamard_transform(target_qbs_idxs:List[int], c:QuantumCircuit) -> QuantumCircuit:\n",
    "    circuit = deepcopy(c)\n",
    "    for target_qb_idx in target_qbs_idxs:\n",
    "        circuit.h(target_qb_idx)\n",
    "    return circuit"
   ]
  },
  {
   "cell_type": "code",
   "execution_count": 5,
   "metadata": {},
   "outputs": [
    {
     "data": {
      "text/html": [
       "<pre style=\"word-wrap: normal;white-space: pre;background: #fff0;line-height: 1.1;font-family: &quot;Courier New&quot;,Courier,monospace\">                ┌───┐\n",
       "q0_0: ──■────■──┤ H ├\n",
       "        │    │  └───┘\n",
       "q0_1: ──┼────┼───────\n",
       "        │    │       \n",
       "q0_2: ──┼────┼───────\n",
       "      ┌─┴─┐  │  ┌───┐\n",
       "q0_3: ┤ X ├──┼──┤ H ├\n",
       "      └───┘  │  └───┘\n",
       "q0_4: ───────┼───────\n",
       "             │       \n",
       "q0_5: ───────┼───────\n",
       "           ┌─┴─┐┌───┐\n",
       "q0_6: ─────┤ X ├┤ H ├\n",
       "           └───┘└───┘\n",
       "q0_7: ───────────────\n",
       "                     \n",
       "q0_8: ───────────────\n",
       "                     </pre>"
      ],
      "text/plain": [
       "                ┌───┐\n",
       "q0_0: ──■────■──┤ H ├\n",
       "        │    │  └───┘\n",
       "q0_1: ──┼────┼───────\n",
       "        │    │       \n",
       "q0_2: ──┼────┼───────\n",
       "      ┌─┴─┐  │  ┌───┐\n",
       "q0_3: ┤ X ├──┼──┤ H ├\n",
       "      └───┘  │  └───┘\n",
       "q0_4: ───────┼───────\n",
       "             │       \n",
       "q0_5: ───────┼───────\n",
       "           ┌─┴─┐┌───┐\n",
       "q0_6: ─────┤ X ├┤ H ├\n",
       "           └───┘└───┘\n",
       "q0_7: ───────────────\n",
       "                     \n",
       "q0_8: ───────────────\n",
       "                     "
      ]
     },
     "execution_count": 5,
     "metadata": {},
     "output_type": "execute_result"
    }
   ],
   "source": [
    "c_with_hadamard = hadamard_transform([0,3,6], c)\n",
    "c_with_hadamard.draw('text')"
   ]
  },
  {
   "attachments": {},
   "cell_type": "markdown",
   "metadata": {},
   "source": [
    "These three qbits are of course the 3-encoding of the single input qbit. But they could also be considered as 3 independent inputs themselves. Thinking that way, it makes sense to now look at how to correct each of those inputs using the 3 bit-flip repetition code we saw in the last chapter."
   ]
  },
  {
   "cell_type": "code",
   "execution_count": 6,
   "metadata": {},
   "outputs": [],
   "source": [
    "def all_parity_checks(all_ctrl_qd_idxs:List[int], c:QuantumCircuit) -> QuantumCircuit:\n",
    "    all_target_qbs_idxs = []\n",
    "    for idxs in all_ctrl_qd_idxs:\n",
    "        all_target_qbs_idxs.append([idxs+1, idxs+2])\n",
    "    circuit = deepcopy(c)\n",
    "    for i in range(len(all_ctrl_qd_idxs)):\n",
    "        circuit = parity_check(all_ctrl_qd_idxs[i], all_target_qbs_idxs[i], circuit)\n",
    "    return circuit"
   ]
  },
  {
   "cell_type": "code",
   "execution_count": 7,
   "metadata": {},
   "outputs": [
    {
     "data": {
      "text/html": [
       "<pre style=\"word-wrap: normal;white-space: pre;background: #fff0;line-height: 1.1;font-family: &quot;Courier New&quot;,Courier,monospace\">                ┌───┐          \n",
       "q0_0: ──■────■──┤ H ├──■────■──\n",
       "        │    │  └───┘┌─┴─┐  │  \n",
       "q0_1: ──┼────┼───────┤ X ├──┼──\n",
       "        │    │       └───┘┌─┴─┐\n",
       "q0_2: ──┼────┼────────────┤ X ├\n",
       "      ┌─┴─┐  │  ┌───┐     └───┘\n",
       "q0_3: ┤ X ├──┼──┤ H ├──■────■──\n",
       "      └───┘  │  └───┘┌─┴─┐  │  \n",
       "q0_4: ───────┼───────┤ X ├──┼──\n",
       "             │       └───┘┌─┴─┐\n",
       "q0_5: ───────┼────────────┤ X ├\n",
       "           ┌─┴─┐┌───┐     └───┘\n",
       "q0_6: ─────┤ X ├┤ H ├──■────■──\n",
       "           └───┘└───┘┌─┴─┐  │  \n",
       "q0_7: ───────────────┤ X ├──┼──\n",
       "                     └───┘┌─┴─┐\n",
       "q0_8: ────────────────────┤ X ├\n",
       "                          └───┘</pre>"
      ],
      "text/plain": [
       "                ┌───┐          \n",
       "q0_0: ──■────■──┤ H ├──■────■──\n",
       "        │    │  └───┘┌─┴─┐  │  \n",
       "q0_1: ──┼────┼───────┤ X ├──┼──\n",
       "        │    │       └───┘┌─┴─┐\n",
       "q0_2: ──┼────┼────────────┤ X ├\n",
       "      ┌─┴─┐  │  ┌───┐     └───┘\n",
       "q0_3: ┤ X ├──┼──┤ H ├──■────■──\n",
       "      └───┘  │  └───┘┌─┴─┐  │  \n",
       "q0_4: ───────┼───────┤ X ├──┼──\n",
       "             │       └───┘┌─┴─┐\n",
       "q0_5: ───────┼────────────┤ X ├\n",
       "           ┌─┴─┐┌───┐     └───┘\n",
       "q0_6: ─────┤ X ├┤ H ├──■────■──\n",
       "           └───┘└───┘┌─┴─┐  │  \n",
       "q0_7: ───────────────┤ X ├──┼──\n",
       "                     └───┘┌─┴─┐\n",
       "q0_8: ────────────────────┤ X ├\n",
       "                          └───┘"
      ]
     },
     "execution_count": 7,
     "metadata": {},
     "output_type": "execute_result"
    }
   ],
   "source": [
    "c_with_parity_checks = all_parity_checks([0,3,6], c_with_hadamard)\n",
    "c_with_parity_checks.draw('text')"
   ]
  },
  {
   "attachments": {},
   "cell_type": "markdown",
   "metadata": {},
   "source": [
    "At this stage, we have the input qbit 0 which is encoded with a 3-qbit phase-flip repetition code into qbits 0, 3 and 6 such that we have in terms of indexes $0 \\mapsto \\{0,3,6\\}$.\n",
    "Then, we can consider each of these qbits as an independent input qbit and see that they are encoded with a 3-qbit bit-flip repetition code with respectively $0 \\mapsto \\{0,1,2\\} \\:, \\: 3 \\mapsto \\{3,4,5\\} \\: , \\: 6 \\mapsto \\{6,7,8\\}$.\n",
    "\n",
    "### 2-B) Introducing random error\n",
    "We have reached the point in the circuit where the error should occur. This time, to check for the efficiency of the code, we'll start introducing random errors."
   ]
  },
  {
   "cell_type": "code",
   "execution_count": 8,
   "metadata": {},
   "outputs": [],
   "source": [
    "def introduce_random_error(circuit:QuantumCircuit) -> QuantumCircuit:\n",
    "    c = deepcopy(circuit)\n",
    "    error_idx = np.random.randint(0,9) #random number >= 0 and <9\n",
    "    y_error_happens = np.random.randint(0,4) #random number >= 0 and <4\n",
    "    if y_error_happens == 3: #one chance out of five to have both errors on the same qbit \n",
    "        c.y(error_idx) #same as having both X and Z\n",
    "    else:\n",
    "        coin_flip = np.random.randint(0,2) #random number in {0,1}\n",
    "        if coin_flip == 0: # bit flip\n",
    "            c.x(error_idx)\n",
    "        else: # phase flip\n",
    "            c.z(error_idx)\n",
    "    return c, error_idx"
   ]
  },
  {
   "cell_type": "code",
   "execution_count": 9,
   "metadata": {},
   "outputs": [
    {
     "data": {
      "text/html": [
       "<pre style=\"word-wrap: normal;white-space: pre;background: #fff0;line-height: 1.1;font-family: &quot;Courier New&quot;,Courier,monospace\">                ┌───┐               \n",
       "q0_0: ──■────■──┤ H ├──■────■───────\n",
       "        │    │  └───┘┌─┴─┐  │       \n",
       "q0_1: ──┼────┼───────┤ X ├──┼───────\n",
       "        │    │       └───┘┌─┴─┐     \n",
       "q0_2: ──┼────┼────────────┤ X ├─────\n",
       "      ┌─┴─┐  │  ┌───┐     └───┘     \n",
       "q0_3: ┤ X ├──┼──┤ H ├──■────■───────\n",
       "      └───┘  │  └───┘┌─┴─┐  │       \n",
       "q0_4: ───────┼───────┤ X ├──┼───────\n",
       "             │       └───┘┌─┴─┐     \n",
       "q0_5: ───────┼────────────┤ X ├─────\n",
       "           ┌─┴─┐┌───┐     └───┘     \n",
       "q0_6: ─────┤ X ├┤ H ├──■────■───────\n",
       "           └───┘└───┘┌─┴─┐  │  ┌───┐\n",
       "q0_7: ───────────────┤ X ├──┼──┤ X ├\n",
       "                     └───┘┌─┴─┐└───┘\n",
       "q0_8: ────────────────────┤ X ├─────\n",
       "                          └───┘     </pre>"
      ],
      "text/plain": [
       "                ┌───┐               \n",
       "q0_0: ──■────■──┤ H ├──■────■───────\n",
       "        │    │  └───┘┌─┴─┐  │       \n",
       "q0_1: ──┼────┼───────┤ X ├──┼───────\n",
       "        │    │       └───┘┌─┴─┐     \n",
       "q0_2: ──┼────┼────────────┤ X ├─────\n",
       "      ┌─┴─┐  │  ┌───┐     └───┘     \n",
       "q0_3: ┤ X ├──┼──┤ H ├──■────■───────\n",
       "      └───┘  │  └───┘┌─┴─┐  │       \n",
       "q0_4: ───────┼───────┤ X ├──┼───────\n",
       "             │       └───┘┌─┴─┐     \n",
       "q0_5: ───────┼────────────┤ X ├─────\n",
       "           ┌─┴─┐┌───┐     └───┘     \n",
       "q0_6: ─────┤ X ├┤ H ├──■────■───────\n",
       "           └───┘└───┘┌─┴─┐  │  ┌───┐\n",
       "q0_7: ───────────────┤ X ├──┼──┤ X ├\n",
       "                     └───┘┌─┴─┐└───┘\n",
       "q0_8: ────────────────────┤ X ├─────\n",
       "                          └───┘     "
      ]
     },
     "execution_count": 9,
     "metadata": {},
     "output_type": "execute_result"
    }
   ],
   "source": [
    "c_with_errors, error_idx = introduce_random_error(c_with_parity_checks)\n",
    "c_with_errors.draw('text')"
   ]
  },
  {
   "attachments": {},
   "cell_type": "markdown",
   "metadata": {},
   "source": [
    "Again, we add parity checks on each group of 3 qbits correcting for X errors:"
   ]
  },
  {
   "cell_type": "code",
   "execution_count": 10,
   "metadata": {},
   "outputs": [
    {
     "data": {
      "text/html": [
       "<pre style=\"word-wrap: normal;white-space: pre;background: #fff0;line-height: 1.1;font-family: &quot;Courier New&quot;,Courier,monospace\">                ┌───┐                         \n",
       "q0_0: ──■────■──┤ H ├──■────■────■────■───────\n",
       "        │    │  └───┘┌─┴─┐  │  ┌─┴─┐  │       \n",
       "q0_1: ──┼────┼───────┤ X ├──┼──┤ X ├──┼───────\n",
       "        │    │       └───┘┌─┴─┐└───┘┌─┴─┐     \n",
       "q0_2: ──┼────┼────────────┤ X ├─────┤ X ├─────\n",
       "      ┌─┴─┐  │  ┌───┐     └───┘     └───┘     \n",
       "q0_3: ┤ X ├──┼──┤ H ├──■────■────■────■───────\n",
       "      └───┘  │  └───┘┌─┴─┐  │  ┌─┴─┐  │       \n",
       "q0_4: ───────┼───────┤ X ├──┼──┤ X ├──┼───────\n",
       "             │       └───┘┌─┴─┐└───┘┌─┴─┐     \n",
       "q0_5: ───────┼────────────┤ X ├─────┤ X ├─────\n",
       "           ┌─┴─┐┌───┐     └───┘     └───┘     \n",
       "q0_6: ─────┤ X ├┤ H ├──■────■─────────■────■──\n",
       "           └───┘└───┘┌─┴─┐  │  ┌───┐┌─┴─┐  │  \n",
       "q0_7: ───────────────┤ X ├──┼──┤ X ├┤ X ├──┼──\n",
       "                     └───┘┌─┴─┐└───┘└───┘┌─┴─┐\n",
       "q0_8: ────────────────────┤ X ├──────────┤ X ├\n",
       "                          └───┘          └───┘</pre>"
      ],
      "text/plain": [
       "                ┌───┐                         \n",
       "q0_0: ──■────■──┤ H ├──■────■────■────■───────\n",
       "        │    │  └───┘┌─┴─┐  │  ┌─┴─┐  │       \n",
       "q0_1: ──┼────┼───────┤ X ├──┼──┤ X ├──┼───────\n",
       "        │    │       └───┘┌─┴─┐└───┘┌─┴─┐     \n",
       "q0_2: ──┼────┼────────────┤ X ├─────┤ X ├─────\n",
       "      ┌─┴─┐  │  ┌───┐     └───┘     └───┘     \n",
       "q0_3: ┤ X ├──┼──┤ H ├──■────■────■────■───────\n",
       "      └───┘  │  └───┘┌─┴─┐  │  ┌─┴─┐  │       \n",
       "q0_4: ───────┼───────┤ X ├──┼──┤ X ├──┼───────\n",
       "             │       └───┘┌─┴─┐└───┘┌─┴─┐     \n",
       "q0_5: ───────┼────────────┤ X ├─────┤ X ├─────\n",
       "           ┌─┴─┐┌───┐     └───┘     └───┘     \n",
       "q0_6: ─────┤ X ├┤ H ├──■────■─────────■────■──\n",
       "           └───┘└───┘┌─┴─┐  │  ┌───┐┌─┴─┐  │  \n",
       "q0_7: ───────────────┤ X ├──┼──┤ X ├┤ X ├──┼──\n",
       "                     └───┘┌─┴─┐└───┘└───┘┌─┴─┐\n",
       "q0_8: ────────────────────┤ X ├──────────┤ X ├\n",
       "                          └───┘          └───┘"
      ]
     },
     "execution_count": 10,
     "metadata": {},
     "output_type": "execute_result"
    }
   ],
   "source": [
    "c_with_second_layer_of_parity_checks = all_parity_checks([0,3,6], c_with_errors)\n",
    "c_with_second_layer_of_parity_checks.draw('text')"
   ]
  },
  {
   "attachments": {},
   "cell_type": "markdown",
   "metadata": {},
   "source": [
    "### 2-C) Correcting errors\n",
    "Next up we start correcting errors, using the Toffoli gate trick introduced in chapter I. Here we correct the bit-flip errors on the three sets of three qbits $\\{0,1,2\\}, \\{3,4,5\\}, \\{6,7,8\\}$."
   ]
  },
  {
   "cell_type": "code",
   "execution_count": 11,
   "metadata": {},
   "outputs": [],
   "source": [
    "def apply_all_toffolis(c:QuantumCircuit, all_idxs:List[Tuple[int]]) -> QuantumCircuit:\n",
    "    circuit = deepcopy(c)\n",
    "    for idxs in all_idxs:\n",
    "        circuit = apply_toffoli(circuit, idxs)\n",
    "    return circuit\n",
    "\n",
    "def apply_toffoli(c:QuantumCircuit, idxs:Tuple[int]) -> QuantumCircuit:\n",
    "    circuit = deepcopy(c)\n",
    "    circuit.ccx(idxs[0], idxs[1], idxs[2])\n",
    "    return circuit"
   ]
  },
  {
   "cell_type": "code",
   "execution_count": 12,
   "metadata": {},
   "outputs": [
    {
     "data": {
      "text/html": [
       "<pre style=\"word-wrap: normal;white-space: pre;background: #fff0;line-height: 1.1;font-family: &quot;Courier New&quot;,Courier,monospace\">                ┌───┐                    ┌───┐     \n",
       "q0_0: ──■────■──┤ H ├──■────■────■────■──┤ X ├─────\n",
       "        │    │  └───┘┌─┴─┐  │  ┌─┴─┐  │  └─┬─┘     \n",
       "q0_1: ──┼────┼───────┤ X ├──┼──┤ X ├──┼────■───────\n",
       "        │    │       └───┘┌─┴─┐└───┘┌─┴─┐  │       \n",
       "q0_2: ──┼────┼────────────┤ X ├─────┤ X ├──■───────\n",
       "      ┌─┴─┐  │  ┌───┐     └───┘     └───┘┌───┐     \n",
       "q0_3: ┤ X ├──┼──┤ H ├──■────■────■────■──┤ X ├─────\n",
       "      └───┘  │  └───┘┌─┴─┐  │  ┌─┴─┐  │  └─┬─┘     \n",
       "q0_4: ───────┼───────┤ X ├──┼──┤ X ├──┼────■───────\n",
       "             │       └───┘┌─┴─┐└───┘┌─┴─┐  │       \n",
       "q0_5: ───────┼────────────┤ X ├─────┤ X ├──■───────\n",
       "           ┌─┴─┐┌───┐     └───┘     └───┘     ┌───┐\n",
       "q0_6: ─────┤ X ├┤ H ├──■────■─────────■────■──┤ X ├\n",
       "           └───┘└───┘┌─┴─┐  │  ┌───┐┌─┴─┐  │  └─┬─┘\n",
       "q0_7: ───────────────┤ X ├──┼──┤ X ├┤ X ├──┼────■──\n",
       "                     └───┘┌─┴─┐└───┘└───┘┌─┴─┐  │  \n",
       "q0_8: ────────────────────┤ X ├──────────┤ X ├──■──\n",
       "                          └───┘          └───┘     </pre>"
      ],
      "text/plain": [
       "                ┌───┐                    ┌───┐     \n",
       "q0_0: ──■────■──┤ H ├──■────■────■────■──┤ X ├─────\n",
       "        │    │  └───┘┌─┴─┐  │  ┌─┴─┐  │  └─┬─┘     \n",
       "q0_1: ──┼────┼───────┤ X ├──┼──┤ X ├──┼────■───────\n",
       "        │    │       └───┘┌─┴─┐└───┘┌─┴─┐  │       \n",
       "q0_2: ──┼────┼────────────┤ X ├─────┤ X ├──■───────\n",
       "      ┌─┴─┐  │  ┌───┐     └───┘     └───┘┌───┐     \n",
       "q0_3: ┤ X ├──┼──┤ H ├──■────■────■────■──┤ X ├─────\n",
       "      └───┘  │  └───┘┌─┴─┐  │  ┌─┴─┐  │  └─┬─┘     \n",
       "q0_4: ───────┼───────┤ X ├──┼──┤ X ├──┼────■───────\n",
       "             │       └───┘┌─┴─┐└───┘┌─┴─┐  │       \n",
       "q0_5: ───────┼────────────┤ X ├─────┤ X ├──■───────\n",
       "           ┌─┴─┐┌───┐     └───┘     └───┘     ┌───┐\n",
       "q0_6: ─────┤ X ├┤ H ├──■────■─────────■────■──┤ X ├\n",
       "           └───┘└───┘┌─┴─┐  │  ┌───┐┌─┴─┐  │  └─┬─┘\n",
       "q0_7: ───────────────┤ X ├──┼──┤ X ├┤ X ├──┼────■──\n",
       "                     └───┘┌─┴─┐└───┘└───┘┌─┴─┐  │  \n",
       "q0_8: ────────────────────┤ X ├──────────┤ X ├──■──\n",
       "                          └───┘          └───┘     "
      ]
     },
     "execution_count": 12,
     "metadata": {},
     "output_type": "execute_result"
    }
   ],
   "source": [
    "circuit_corrected_bitflips = apply_all_toffolis(c_with_second_layer_of_parity_checks, [(2,1,0), (5,4,3), (8,7,6)])\n",
    "circuit_corrected_bitflips.draw('text')"
   ]
  },
  {
   "attachments": {},
   "cell_type": "markdown",
   "metadata": {},
   "source": [
    "We put back the Hadamards and now start correcting for for phase-flip errors on qbits $\\{0,3,6\\}$."
   ]
  },
  {
   "cell_type": "code",
   "execution_count": 13,
   "metadata": {},
   "outputs": [
    {
     "data": {
      "text/html": [
       "<pre style=\"word-wrap: normal;white-space: pre;background: #fff0;line-height: 1.1;font-family: &quot;Courier New&quot;,Courier,monospace\">                ┌───┐                    ┌───┐┌───┐     \n",
       "q0_0: ──■────■──┤ H ├──■────■────■────■──┤ X ├┤ H ├─────\n",
       "        │    │  └───┘┌─┴─┐  │  ┌─┴─┐  │  └─┬─┘└───┘     \n",
       "q0_1: ──┼────┼───────┤ X ├──┼──┤ X ├──┼────■────────────\n",
       "        │    │       └───┘┌─┴─┐└───┘┌─┴─┐  │            \n",
       "q0_2: ──┼────┼────────────┤ X ├─────┤ X ├──■────────────\n",
       "      ┌─┴─┐  │  ┌───┐     └───┘     └───┘┌───┐┌───┐     \n",
       "q0_3: ┤ X ├──┼──┤ H ├──■────■────■────■──┤ X ├┤ H ├─────\n",
       "      └───┘  │  └───┘┌─┴─┐  │  ┌─┴─┐  │  └─┬─┘└───┘     \n",
       "q0_4: ───────┼───────┤ X ├──┼──┤ X ├──┼────■────────────\n",
       "             │       └───┘┌─┴─┐└───┘┌─┴─┐  │            \n",
       "q0_5: ───────┼────────────┤ X ├─────┤ X ├──■────────────\n",
       "           ┌─┴─┐┌───┐     └───┘     └───┘     ┌───┐┌───┐\n",
       "q0_6: ─────┤ X ├┤ H ├──■────■─────────■────■──┤ X ├┤ H ├\n",
       "           └───┘└───┘┌─┴─┐  │  ┌───┐┌─┴─┐  │  └─┬─┘└───┘\n",
       "q0_7: ───────────────┤ X ├──┼──┤ X ├┤ X ├──┼────■───────\n",
       "                     └───┘┌─┴─┐└───┘└───┘┌─┴─┐  │       \n",
       "q0_8: ────────────────────┤ X ├──────────┤ X ├──■───────\n",
       "                          └───┘          └───┘          </pre>"
      ],
      "text/plain": [
       "                ┌───┐                    ┌───┐┌───┐     \n",
       "q0_0: ──■────■──┤ H ├──■────■────■────■──┤ X ├┤ H ├─────\n",
       "        │    │  └───┘┌─┴─┐  │  ┌─┴─┐  │  └─┬─┘└───┘     \n",
       "q0_1: ──┼────┼───────┤ X ├──┼──┤ X ├──┼────■────────────\n",
       "        │    │       └───┘┌─┴─┐└───┘┌─┴─┐  │            \n",
       "q0_2: ──┼────┼────────────┤ X ├─────┤ X ├──■────────────\n",
       "      ┌─┴─┐  │  ┌───┐     └───┘     └───┘┌───┐┌───┐     \n",
       "q0_3: ┤ X ├──┼──┤ H ├──■────■────■────■──┤ X ├┤ H ├─────\n",
       "      └───┘  │  └───┘┌─┴─┐  │  ┌─┴─┐  │  └─┬─┘└───┘     \n",
       "q0_4: ───────┼───────┤ X ├──┼──┤ X ├──┼────■────────────\n",
       "             │       └───┘┌─┴─┐└───┘┌─┴─┐  │            \n",
       "q0_5: ───────┼────────────┤ X ├─────┤ X ├──■────────────\n",
       "           ┌─┴─┐┌───┐     └───┘     └───┘     ┌───┐┌───┐\n",
       "q0_6: ─────┤ X ├┤ H ├──■────■─────────■────■──┤ X ├┤ H ├\n",
       "           └───┘└───┘┌─┴─┐  │  ┌───┐┌─┴─┐  │  └─┬─┘└───┘\n",
       "q0_7: ───────────────┤ X ├──┼──┤ X ├┤ X ├──┼────■───────\n",
       "                     └───┘┌─┴─┐└───┘└───┘┌─┴─┐  │       \n",
       "q0_8: ────────────────────┤ X ├──────────┤ X ├──■───────\n",
       "                          └───┘          └───┘          "
      ]
     },
     "execution_count": 13,
     "metadata": {},
     "output_type": "execute_result"
    }
   ],
   "source": [
    "circuit_change_basis_qbs036 = hadamard_transform([0,3,6], circuit_corrected_bitflips)\n",
    "circuit_change_basis_qbs036.draw('text')"
   ]
  },
  {
   "attachments": {},
   "cell_type": "markdown",
   "metadata": {},
   "source": [
    "Perform the parity checks on the phase-flip correcting qbits."
   ]
  },
  {
   "cell_type": "code",
   "execution_count": 14,
   "metadata": {},
   "outputs": [
    {
     "data": {
      "text/html": [
       "<pre style=\"word-wrap: normal;white-space: pre;background: #fff0;line-height: 1.1;font-family: &quot;Courier New&quot;,Courier,monospace\">                ┌───┐                    ┌───┐┌───┐          \n",
       "q0_0: ──■────■──┤ H ├──■────■────■────■──┤ X ├┤ H ├──■────■──\n",
       "        │    │  └───┘┌─┴─┐  │  ┌─┴─┐  │  └─┬─┘└───┘  │    │  \n",
       "q0_1: ──┼────┼───────┤ X ├──┼──┤ X ├──┼────■─────────┼────┼──\n",
       "        │    │       └───┘┌─┴─┐└───┘┌─┴─┐  │         │    │  \n",
       "q0_2: ──┼────┼────────────┤ X ├─────┤ X ├──■─────────┼────┼──\n",
       "      ┌─┴─┐  │  ┌───┐     └───┘     └───┘┌───┐┌───┐┌─┴─┐  │  \n",
       "q0_3: ┤ X ├──┼──┤ H ├──■────■────■────■──┤ X ├┤ H ├┤ X ├──┼──\n",
       "      └───┘  │  └───┘┌─┴─┐  │  ┌─┴─┐  │  └─┬─┘└───┘└───┘  │  \n",
       "q0_4: ───────┼───────┤ X ├──┼──┤ X ├──┼────■──────────────┼──\n",
       "             │       └───┘┌─┴─┐└───┘┌─┴─┐  │              │  \n",
       "q0_5: ───────┼────────────┤ X ├─────┤ X ├──■──────────────┼──\n",
       "           ┌─┴─┐┌───┐     └───┘     └───┘     ┌───┐┌───┐┌─┴─┐\n",
       "q0_6: ─────┤ X ├┤ H ├──■────■─────────■────■──┤ X ├┤ H ├┤ X ├\n",
       "           └───┘└───┘┌─┴─┐  │  ┌───┐┌─┴─┐  │  └─┬─┘└───┘└───┘\n",
       "q0_7: ───────────────┤ X ├──┼──┤ X ├┤ X ├──┼────■────────────\n",
       "                     └───┘┌─┴─┐└───┘└───┘┌─┴─┐  │            \n",
       "q0_8: ────────────────────┤ X ├──────────┤ X ├──■────────────\n",
       "                          └───┘          └───┘               </pre>"
      ],
      "text/plain": [
       "                ┌───┐                    ┌───┐┌───┐          \n",
       "q0_0: ──■────■──┤ H ├──■────■────■────■──┤ X ├┤ H ├──■────■──\n",
       "        │    │  └───┘┌─┴─┐  │  ┌─┴─┐  │  └─┬─┘└───┘  │    │  \n",
       "q0_1: ──┼────┼───────┤ X ├──┼──┤ X ├──┼────■─────────┼────┼──\n",
       "        │    │       └───┘┌─┴─┐└───┘┌─┴─┐  │         │    │  \n",
       "q0_2: ──┼────┼────────────┤ X ├─────┤ X ├──■─────────┼────┼──\n",
       "      ┌─┴─┐  │  ┌───┐     └───┘     └───┘┌───┐┌───┐┌─┴─┐  │  \n",
       "q0_3: ┤ X ├──┼──┤ H ├──■────■────■────■──┤ X ├┤ H ├┤ X ├──┼──\n",
       "      └───┘  │  └───┘┌─┴─┐  │  ┌─┴─┐  │  └─┬─┘└───┘└───┘  │  \n",
       "q0_4: ───────┼───────┤ X ├──┼──┤ X ├──┼────■──────────────┼──\n",
       "             │       └───┘┌─┴─┐└───┘┌─┴─┐  │              │  \n",
       "q0_5: ───────┼────────────┤ X ├─────┤ X ├──■──────────────┼──\n",
       "           ┌─┴─┐┌───┐     └───┘     └───┘     ┌───┐┌───┐┌─┴─┐\n",
       "q0_6: ─────┤ X ├┤ H ├──■────■─────────■────■──┤ X ├┤ H ├┤ X ├\n",
       "           └───┘└───┘┌─┴─┐  │  ┌───┐┌─┴─┐  │  └─┬─┘└───┘└───┘\n",
       "q0_7: ───────────────┤ X ├──┼──┤ X ├┤ X ├──┼────■────────────\n",
       "                     └───┘┌─┴─┐└───┘└───┘┌─┴─┐  │            \n",
       "q0_8: ────────────────────┤ X ├──────────┤ X ├──■────────────\n",
       "                          └───┘          └───┘               "
      ]
     },
     "execution_count": 14,
     "metadata": {},
     "output_type": "execute_result"
    }
   ],
   "source": [
    "circuit_with_phaseflip_parity_checks = parity_check(0, [3,6],circuit_change_basis_qbs036)\n",
    "circuit_with_phaseflip_parity_checks.draw('text')"
   ]
  },
  {
   "cell_type": "markdown",
   "metadata": {},
   "source": [
    "And finally correct the phase-flip error with a Toffoli."
   ]
  },
  {
   "cell_type": "code",
   "execution_count": 15,
   "metadata": {},
   "outputs": [
    {
     "data": {
      "text/html": [
       "<pre style=\"word-wrap: normal;white-space: pre;background: #fff0;line-height: 1.1;font-family: &quot;Courier New&quot;,Courier,monospace\">                ┌───┐                    ┌───┐┌───┐          ┌───┐\n",
       "q0_0: ──■────■──┤ H ├──■────■────■────■──┤ X ├┤ H ├──■────■──┤ X ├\n",
       "        │    │  └───┘┌─┴─┐  │  ┌─┴─┐  │  └─┬─┘└───┘  │    │  └─┬─┘\n",
       "q0_1: ──┼────┼───────┤ X ├──┼──┤ X ├──┼────■─────────┼────┼────┼──\n",
       "        │    │       └───┘┌─┴─┐└───┘┌─┴─┐  │         │    │    │  \n",
       "q0_2: ──┼────┼────────────┤ X ├─────┤ X ├──■─────────┼────┼────┼──\n",
       "      ┌─┴─┐  │  ┌───┐     └───┘     └───┘┌───┐┌───┐┌─┴─┐  │    │  \n",
       "q0_3: ┤ X ├──┼──┤ H ├──■────■────■────■──┤ X ├┤ H ├┤ X ├──┼────■──\n",
       "      └───┘  │  └───┘┌─┴─┐  │  ┌─┴─┐  │  └─┬─┘└───┘└───┘  │    │  \n",
       "q0_4: ───────┼───────┤ X ├──┼──┤ X ├──┼────■──────────────┼────┼──\n",
       "             │       └───┘┌─┴─┐└───┘┌─┴─┐  │              │    │  \n",
       "q0_5: ───────┼────────────┤ X ├─────┤ X ├──■──────────────┼────┼──\n",
       "           ┌─┴─┐┌───┐     └───┘     └───┘     ┌───┐┌───┐┌─┴─┐  │  \n",
       "q0_6: ─────┤ X ├┤ H ├──■────■─────────■────■──┤ X ├┤ H ├┤ X ├──■──\n",
       "           └───┘└───┘┌─┴─┐  │  ┌───┐┌─┴─┐  │  └─┬─┘└───┘└───┘     \n",
       "q0_7: ───────────────┤ X ├──┼──┤ X ├┤ X ├──┼────■─────────────────\n",
       "                     └───┘┌─┴─┐└───┘└───┘┌─┴─┐  │                 \n",
       "q0_8: ────────────────────┤ X ├──────────┤ X ├──■─────────────────\n",
       "                          └───┘          └───┘                    </pre>"
      ],
      "text/plain": [
       "                ┌───┐                    ┌───┐┌───┐          ┌───┐\n",
       "q0_0: ──■────■──┤ H ├──■────■────■────■──┤ X ├┤ H ├──■────■──┤ X ├\n",
       "        │    │  └───┘┌─┴─┐  │  ┌─┴─┐  │  └─┬─┘└───┘  │    │  └─┬─┘\n",
       "q0_1: ──┼────┼───────┤ X ├──┼──┤ X ├──┼────■─────────┼────┼────┼──\n",
       "        │    │       └───┘┌─┴─┐└───┘┌─┴─┐  │         │    │    │  \n",
       "q0_2: ──┼────┼────────────┤ X ├─────┤ X ├──■─────────┼────┼────┼──\n",
       "      ┌─┴─┐  │  ┌───┐     └───┘     └───┘┌───┐┌───┐┌─┴─┐  │    │  \n",
       "q0_3: ┤ X ├──┼──┤ H ├──■────■────■────■──┤ X ├┤ H ├┤ X ├──┼────■──\n",
       "      └───┘  │  └───┘┌─┴─┐  │  ┌─┴─┐  │  └─┬─┘└───┘└───┘  │    │  \n",
       "q0_4: ───────┼───────┤ X ├──┼──┤ X ├──┼────■──────────────┼────┼──\n",
       "             │       └───┘┌─┴─┐└───┘┌─┴─┐  │              │    │  \n",
       "q0_5: ───────┼────────────┤ X ├─────┤ X ├──■──────────────┼────┼──\n",
       "           ┌─┴─┐┌───┐     └───┘     └───┘     ┌───┐┌───┐┌─┴─┐  │  \n",
       "q0_6: ─────┤ X ├┤ H ├──■────■─────────■────■──┤ X ├┤ H ├┤ X ├──■──\n",
       "           └───┘└───┘┌─┴─┐  │  ┌───┐┌─┴─┐  │  └─┬─┘└───┘└───┘     \n",
       "q0_7: ───────────────┤ X ├──┼──┤ X ├┤ X ├──┼────■─────────────────\n",
       "                     └───┘┌─┴─┐└───┘└───┘┌─┴─┐  │                 \n",
       "q0_8: ────────────────────┤ X ├──────────┤ X ├──■─────────────────\n",
       "                          └───┘          └───┘                    "
      ]
     },
     "execution_count": 15,
     "metadata": {},
     "output_type": "execute_result"
    }
   ],
   "source": [
    "final_circuit = apply_toffoli(circuit_with_phaseflip_parity_checks, [6,3,0])\n",
    "final_circuit.draw('text')"
   ]
  },
  {
   "attachments": {},
   "cell_type": "markdown",
   "metadata": {},
   "source": [
    "## 3) Measuring and testing Shor's code behaviour"
   ]
  },
  {
   "attachments": {},
   "cell_type": "markdown",
   "metadata": {},
   "source": [
    "We're done, we've built the full circuit corresponding to Shor's code including the encoding and decoding parts. All that's left to do is try it with different inputs and errors and compare the results."
   ]
  },
  {
   "cell_type": "code",
   "execution_count": 16,
   "metadata": {},
   "outputs": [],
   "source": [
    "def simulate_measurements(circuit:QuantumCircuit, nb_shots:int=1024) -> dict:\n",
    "    \"\"\"Simulates measurement results.\"\"\"\n",
    "    backend_sim = Aer.get_backend('qasm_simulator')\n",
    "    job_sim = backend_sim.run(transpile(circuit, backend_sim), shots=nb_shots)\n",
    "    result_sim = job_sim.result()\n",
    "    counts = result_sim.get_counts(circuit)\n",
    "    return counts\n",
    "\n",
    "def most_common_output(counts:dict) -> str:\n",
    "    \"\"\" Provides the (q/c)-bit 0>n encoding of the most measured output.\"\"\"\n",
    "    return int(max(counts, key=counts.get)[::-1])"
   ]
  },
  {
   "cell_type": "code",
   "execution_count": 17,
   "metadata": {},
   "outputs": [
    {
     "name": "stdout",
     "output_type": "stream",
     "text": [
      "Encoded bit value: 1 - output value: 1 \t values match: True\n",
      "Encoded bit value: 1 - output value: 1 \t values match: True\n",
      "Encoded bit value: 0 - output value: 0 \t values match: True\n",
      "Encoded bit value: 0 - output value: 0 \t values match: True\n",
      "Encoded bit value: 0 - output value: 0 \t values match: True\n",
      "Encoded bit value: 1 - output value: 1 \t values match: True\n",
      "Encoded bit value: 0 - output value: 0 \t values match: True\n",
      "Encoded bit value: 0 - output value: 0 \t values match: True\n",
      "Encoded bit value: 0 - output value: 0 \t values match: True\n",
      "Encoded bit value: 0 - output value: 0 \t values match: True\n"
     ]
    }
   ],
   "source": [
    "nb_trials = 10\n",
    "\n",
    "for i in range(nb_trials):\n",
    "    circ = QuantumCircuit(QuantumRegister(9)) #generate circuit\n",
    "\n",
    "    # Pick initial bit value and encode it\n",
    "    init_bit_value = np.random.randint(0,2) #pick whether we encode a 0 or 1\n",
    "    if init_bit_value == 1:\n",
    "       circ.x(0) #encode the 1\n",
    "\n",
    "    # Build the circuit\n",
    "    circ = parity_check(0, [3,6], circ)\n",
    "    circ = hadamard_transform([0,3,6], circ)\n",
    "    circ = all_parity_checks([0,3,6], circ)\n",
    "    circ, error_index =  introduce_random_error(circ)\n",
    "    circ = all_parity_checks([0,3,6], circ)\n",
    "    circ = apply_all_toffolis(circ, [(2,1,0), (5,4,3), (8,7,6)])\n",
    "    circ = hadamard_transform([0,3,6], circ)\n",
    "    circ = parity_check(0, [3,6], circ)\n",
    "    circ = apply_toffoli(circ, [6,3,0])\n",
    "    \n",
    "   \n",
    "    # Measuring\n",
    "   \n",
    "    circ.add_register(ClassicalRegister(1)) #add one classical bit for outcome measurement\n",
    "    circ.measure(0,0) #measure value of qbit 0 and store into cbit 0\n",
    "    result_counts = simulate_measurements(circ)\n",
    "    output_nb1 = most_common_output(result_counts)\n",
    "\n",
    "    # Update tracked value\n",
    "    if not (init_bit_value == output_nb1):\n",
    "        print(\"###\", init_bit_value, output_nb1, output_nb1 == init_bit_value)\n",
    "\n",
    "    print(f\"Encoded bit value: {init_bit_value} - output value: {output_nb1} \\t values match: {init_bit_value == output_nb1}\")\n"
   ]
  },
  {
   "cell_type": "code",
   "execution_count": 18,
   "metadata": {},
   "outputs": [
    {
     "data": {
      "text/html": [
       "<pre style=\"word-wrap: normal;white-space: pre;background: #fff0;line-height: 1.1;font-family: &quot;Courier New&quot;,Courier,monospace\">                 ┌───┐                    ┌───┐┌───┐               ┌───┐┌─┐\n",
       "q57_0: ──■────■──┤ H ├──■────■────■────■──┤ X ├┤ H ├───────■────■──┤ X ├┤M├\n",
       "         │    │  └───┘┌─┴─┐  │  ┌─┴─┐  │  └─┬─┘└───┘       │    │  └─┬─┘└╥┘\n",
       "q57_1: ──┼────┼───────┤ X ├──┼──┤ X ├──┼────■──────────────┼────┼────┼───╫─\n",
       "         │    │       └───┘┌─┴─┐└───┘┌─┴─┐  │              │    │    │   ║ \n",
       "q57_2: ──┼────┼────────────┤ X ├─────┤ X ├──■──────────────┼────┼────┼───╫─\n",
       "       ┌─┴─┐  │  ┌───┐     └───┘     └───┘     ┌───┐┌───┐┌─┴─┐  │    │   ║ \n",
       "q57_3: ┤ X ├──┼──┤ H ├──■────■─────────■────■──┤ X ├┤ H ├┤ X ├──┼────■───╫─\n",
       "       └───┘  │  └───┘┌─┴─┐  │  ┌───┐┌─┴─┐  │  └─┬─┘└───┘└───┘  │    │   ║ \n",
       "q57_4: ───────┼───────┤ X ├──┼──┤ X ├┤ X ├──┼────■──────────────┼────┼───╫─\n",
       "              │       └───┘┌─┴─┐└───┘└───┘┌─┴─┐  │              │    │   ║ \n",
       "q57_5: ───────┼────────────┤ X ├──────────┤ X ├──■──────────────┼────┼───╫─\n",
       "            ┌─┴─┐┌───┐     └───┘          ├───┤┌───┐          ┌─┴─┐  │   ║ \n",
       "q57_6: ─────┤ X ├┤ H ├──■────■────■────■──┤ X ├┤ H ├──────────┤ X ├──■───╫─\n",
       "            └───┘└───┘┌─┴─┐  │  ┌─┴─┐  │  └─┬─┘└───┘          └───┘      ║ \n",
       "q57_7: ───────────────┤ X ├──┼──┤ X ├──┼────■────────────────────────────╫─\n",
       "                      └───┘┌─┴─┐└───┘┌─┴─┐  │                            ║ \n",
       "q57_8: ────────────────────┤ X ├─────┤ X ├──■────────────────────────────╫─\n",
       "                           └───┘     └───┘                               ║ \n",
       " c9: 1/══════════════════════════════════════════════════════════════════╩═\n",
       "                                                                         0 </pre>"
      ],
      "text/plain": [
       "                 ┌───┐                    ┌───┐┌───┐               ┌───┐┌─┐\n",
       "q57_0: ──■────■──┤ H ├──■────■────■────■──┤ X ├┤ H ├───────■────■──┤ X ├┤M├\n",
       "         │    │  └───┘┌─┴─┐  │  ┌─┴─┐  │  └─┬─┘└───┘       │    │  └─┬─┘└╥┘\n",
       "q57_1: ──┼────┼───────┤ X ├──┼──┤ X ├──┼────■──────────────┼────┼────┼───╫─\n",
       "         │    │       └───┘┌─┴─┐└───┘┌─┴─┐  │              │    │    │   ║ \n",
       "q57_2: ──┼────┼────────────┤ X ├─────┤ X ├──■──────────────┼────┼────┼───╫─\n",
       "       ┌─┴─┐  │  ┌───┐     └───┘     └───┘     ┌───┐┌───┐┌─┴─┐  │    │   ║ \n",
       "q57_3: ┤ X ├──┼──┤ H ├──■────■─────────■────■──┤ X ├┤ H ├┤ X ├──┼────■───╫─\n",
       "       └───┘  │  └───┘┌─┴─┐  │  ┌───┐┌─┴─┐  │  └─┬─┘└───┘└───┘  │    │   ║ \n",
       "q57_4: ───────┼───────┤ X ├──┼──┤ X ├┤ X ├──┼────■──────────────┼────┼───╫─\n",
       "              │       └───┘┌─┴─┐└───┘└───┘┌─┴─┐  │              │    │   ║ \n",
       "q57_5: ───────┼────────────┤ X ├──────────┤ X ├──■──────────────┼────┼───╫─\n",
       "            ┌─┴─┐┌───┐     └───┘          ├───┤┌───┐          ┌─┴─┐  │   ║ \n",
       "q57_6: ─────┤ X ├┤ H ├──■────■────■────■──┤ X ├┤ H ├──────────┤ X ├──■───╫─\n",
       "            └───┘└───┘┌─┴─┐  │  ┌─┴─┐  │  └─┬─┘└───┘          └───┘      ║ \n",
       "q57_7: ───────────────┤ X ├──┼──┤ X ├──┼────■────────────────────────────╫─\n",
       "                      └───┘┌─┴─┐└───┘┌─┴─┐  │                            ║ \n",
       "q57_8: ────────────────────┤ X ├─────┤ X ├──■────────────────────────────╫─\n",
       "                           └───┘     └───┘                               ║ \n",
       " c9: 1/══════════════════════════════════════════════════════════════════╩═\n",
       "                                                                         0 "
      ]
     },
     "execution_count": 18,
     "metadata": {},
     "output_type": "execute_result"
    }
   ],
   "source": [
    "circ.draw('text')"
   ]
  },
  {
   "cell_type": "code",
   "execution_count": null,
   "metadata": {},
   "outputs": [],
   "source": []
  }
 ],
 "metadata": {
  "kernelspec": {
   "display_name": "Python 3",
   "language": "python",
   "name": "python3"
  },
  "language_info": {
   "codemirror_mode": {
    "name": "ipython",
    "version": 3
   },
   "file_extension": ".py",
   "mimetype": "text/x-python",
   "name": "python",
   "nbconvert_exporter": "python",
   "pygments_lexer": "ipython3",
   "version": "3.9.17"
  },
  "orig_nbformat": 4
 },
 "nbformat": 4,
 "nbformat_minor": 2
}
